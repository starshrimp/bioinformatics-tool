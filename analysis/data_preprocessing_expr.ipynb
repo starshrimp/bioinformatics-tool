{
 "cells": [
  {
   "cell_type": "code",
   "execution_count": 22,
   "id": "2d739180",
   "metadata": {},
   "outputs": [],
   "source": [
    "import pandas as pd\n",
    "import matplotlib.pyplot as plt\n",
    "\n",
    "em = pd.read_csv('/Users/sarah/Code/bioinformatics-tool/data/GSE96058_gene_expression_3273_samples_and_136_replicates_transformed.csv', index_col=0)"
   ]
  },
  {
   "cell_type": "code",
   "execution_count": 23,
   "id": "32377ec3",
   "metadata": {},
   "outputs": [
    {
     "name": "stdout",
     "output_type": "stream",
     "text": [
      "Initial shape (samples x genes): (3409, 30865)\n"
     ]
    }
   ],
   "source": [
    "em_T = em.T\n",
    "print(f\"Initial shape (samples x genes): {em_T.shape}\")"
   ]
  },
  {
   "cell_type": "markdown",
   "id": "5453090f",
   "metadata": {},
   "source": [
    "Dropping columns that are constant and genes with a very low expression."
   ]
  },
  {
   "cell_type": "code",
   "execution_count": 24,
   "id": "c5fc0ab7",
   "metadata": {},
   "outputs": [
    {
     "name": "stdout",
     "output_type": "stream",
     "text": [
      "Dropping 2236 constant columns.\n",
      "Dropping 2479 low-expression columns (not equal to -3.32 in < 34 samples).\n"
     ]
    }
   ],
   "source": [
    "import numpy as np\n",
    "\n",
    "# Step 1: Drop constant columns (genes with no variation across samples)\n",
    "constant_cols = em_T.loc[:, em_T.nunique() <= 1].columns\n",
    "cleaned_em_T = em_T.drop(columns=constant_cols)\n",
    "print(f\"Dropping {len(constant_cols)} constant columns.\")\n",
    "\n",
    "# Step 2: Drop low-expression genes (genes expressed in <1% of samples)\n",
    "tolerance = 1e-2  # or 0.01\n",
    "pseudo_zero = np.log2(0.1)  # ≈ -3.32\n",
    "min_samples = int(0.01 * cleaned_em_T.shape[0])\n",
    "\n",
    "# Count how many samples have expression different from -3.32\n",
    "expressed = (np.abs(cleaned_em_T - pseudo_zero) > tolerance).sum(axis=0)\n",
    "low_expression_cols = expressed[expressed < min_samples].index\n",
    "\n",
    "print(f\"Dropping {len(low_expression_cols)} low-expression columns (not equal to {pseudo_zero:.2f} in < {min_samples} samples).\")\n",
    "\n",
    "filtered_em_T = cleaned_em_T.drop(columns=low_expression_cols)"
   ]
  },
  {
   "cell_type": "markdown",
   "id": "e6e33c45",
   "metadata": {},
   "source": [
    "Applying median-centering per column."
   ]
  },
  {
   "cell_type": "code",
   "execution_count": 25,
   "id": "7eb465f4",
   "metadata": {},
   "outputs": [],
   "source": [
    "median_centered = filtered_em_T.sub(filtered_em_T.median(axis=0), axis=1)"
   ]
  },
  {
   "cell_type": "markdown",
   "id": "998f6e7c",
   "metadata": {},
   "source": [
    "Applying z-scoring per column."
   ]
  },
  {
   "cell_type": "code",
   "execution_count": 26,
   "id": "58ba755f",
   "metadata": {},
   "outputs": [
    {
     "name": "stdout",
     "output_type": "stream",
     "text": [
      "Dropping 2 columns with zero standard deviation after centering.\n"
     ]
    }
   ],
   "source": [
    "# Drop columns with zero std dev after median-centering\n",
    "stds = median_centered.std(axis=0, ddof=0)\n",
    "zero_std_cols = stds[stds == 0].index\n",
    "\n",
    "print(f\"Dropping {len(zero_std_cols)} columns with zero standard deviation after centering.\")\n",
    "\n",
    "median_centered = median_centered.drop(columns=zero_std_cols)\n"
   ]
  },
  {
   "cell_type": "code",
   "execution_count": 27,
   "id": "759125c0",
   "metadata": {},
   "outputs": [],
   "source": [
    "median_centered.to_csv('/Users/sarah/Code/bioinformatics-tool/data/GSE96058_median_centered.csv')"
   ]
  },
  {
   "cell_type": "code",
   "execution_count": 19,
   "id": "149d974b",
   "metadata": {},
   "outputs": [],
   "source": [
    "zscored = median_centered.sub(median_centered.mean(axis=0), axis=1)\n",
    "zscored = zscored.div(median_centered.std(axis=0, ddof=0), axis=1)\n"
   ]
  },
  {
   "cell_type": "code",
   "execution_count": 20,
   "id": "03af33a8",
   "metadata": {},
   "outputs": [
    {
     "name": "stdout",
     "output_type": "stream",
     "text": [
      "Series([], dtype: int64)\n"
     ]
    }
   ],
   "source": [
    "# Shows columns with any NaNs and how many there are\n",
    "na_cols = zscored.isna().sum()\n",
    "na_cols = na_cols[na_cols > 0]\n",
    "print(na_cols)\n"
   ]
  },
  {
   "cell_type": "code",
   "execution_count": null,
   "id": "be32afbf",
   "metadata": {},
   "outputs": [],
   "source": [
    "# zscored.to_csv(\"/Users/sarah/Code/bioinformatics-tool/data/GSE96058_zscored.csv\")"
   ]
  }
 ],
 "metadata": {
  "kernelspec": {
   "display_name": "bioinformatics-tool",
   "language": "python",
   "name": "python3"
  },
  "language_info": {
   "codemirror_mode": {
    "name": "ipython",
    "version": 3
   },
   "file_extension": ".py",
   "mimetype": "text/x-python",
   "name": "python",
   "nbconvert_exporter": "python",
   "pygments_lexer": "ipython3",
   "version": "3.13.5"
  }
 },
 "nbformat": 4,
 "nbformat_minor": 5
}
