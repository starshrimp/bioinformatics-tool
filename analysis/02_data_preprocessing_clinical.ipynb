{
 "cells": [
  {
   "cell_type": "markdown",
   "id": "6faab212",
   "metadata": {},
   "source": [
    "# Imports"
   ]
  },
  {
   "cell_type": "code",
   "execution_count": 2,
   "id": "c51c2bbc",
   "metadata": {},
   "outputs": [],
   "source": [
    "import pandas as pd\n",
    "import numpy as np\n",
    "import GEOparse\n",
    "import os\n",
    "import seaborn as sns\n",
    "from dotenv import load_dotenv\n",
    "from pathlib import Path\n",
    "from sklearn.impute import KNNImputer\n",
    "\n",
    "import matplotlib.pyplot as plt"
   ]
  },
  {
   "cell_type": "markdown",
   "id": "d084ffa9",
   "metadata": {},
   "source": [
    "# Download Dataset\n",
    "First step is to download the dataset, extract the metadata and drop constant columns (contain no information, only slow down computations)."
   ]
  },
  {
   "cell_type": "code",
   "execution_count": 3,
   "id": "26dad61c",
   "metadata": {},
   "outputs": [
    {
     "name": "stdout",
     "output_type": "stream",
     "text": [
      "Dropped 26 constant columns. Remaining columns: 31\n"
     ]
    }
   ],
   "source": [
    "# Step 1: Download GEO dataset\n",
    "gse = GEOparse.get_GEO(\"GSE96058\", destdir=\"/Users/sarah/Code/bioinformatics-tool/backend/data\", how=\"full\", silent=True)\n",
    "\n",
    "# Step 2: Extract sample metadata (GSMs)\n",
    "clinical_df = gse.phenotype_data\n",
    "\n",
    "n_before = clinical_df.shape[1]\n",
    "clinical_df = clinical_df.loc[:, clinical_df.nunique(dropna=False) > 1].copy()\n",
    "n_after = clinical_df.shape[1]\n",
    "\n",
    "print(f\"Dropped {n_before - n_after} constant columns. Remaining columns: {n_after}\")\n",
    "\n",
    "# Set 'title' as index\n",
    "clinical_df.set_index(\"title\", inplace=True)\n"
   ]
  },
  {
   "cell_type": "markdown",
   "id": "a2a7aceb",
   "metadata": {},
   "source": [
    "First overlook over data showed \"NA\" as a string in columns -> we want to replace it with np.nan globally. "
   ]
  },
  {
   "cell_type": "code",
   "execution_count": 4,
   "id": "2340d165",
   "metadata": {},
   "outputs": [],
   "source": [
    "# using np for NaN replacement\n",
    "clinical_df.replace(\"NA\", np.nan, inplace=True)\n"
   ]
  },
  {
   "cell_type": "markdown",
   "id": "4d496e3d",
   "metadata": {},
   "source": [
    "Getting an overlook over what columns we have available."
   ]
  },
  {
   "cell_type": "code",
   "execution_count": 5,
   "id": "a0eac65f",
   "metadata": {},
   "outputs": [
    {
     "name": "stdout",
     "output_type": "stream",
     "text": [
      "geo_accession\n",
      "last_update_date\n",
      "characteristics_ch1.0.scan-b external id\n",
      "characteristics_ch1.1.instrument model\n",
      "characteristics_ch1.2.age at diagnosis\n",
      "characteristics_ch1.3.tumor size\n",
      "characteristics_ch1.4.lymph node group\n",
      "characteristics_ch1.5.lymph node status\n",
      "characteristics_ch1.6.er status\n",
      "characteristics_ch1.7.pgr status\n",
      "characteristics_ch1.8.her2 status\n",
      "characteristics_ch1.9.ki67 status\n",
      "characteristics_ch1.10.nhg\n",
      "characteristics_ch1.11.er prediction mgc\n",
      "characteristics_ch1.12.pgr prediction mgc\n",
      "characteristics_ch1.13.her2 prediction mgc\n",
      "characteristics_ch1.14.ki67 prediction mgc\n",
      "characteristics_ch1.15.nhg prediction mgc\n",
      "characteristics_ch1.16.er prediction sgc\n",
      "characteristics_ch1.17.pgr prediction sgc\n",
      "characteristics_ch1.18.her2 prediction sgc\n",
      "characteristics_ch1.19.ki67 prediction sgc\n",
      "characteristics_ch1.20.pam50 subtype\n",
      "characteristics_ch1.21.overall survival days\n",
      "characteristics_ch1.22.overall survival event\n",
      "characteristics_ch1.23.endocrine treated\n",
      "characteristics_ch1.24.chemo treated\n",
      "platform_id\n",
      "instrument_model\n",
      "relation\n"
     ]
    }
   ],
   "source": [
    "for col in clinical_df.columns:\n",
    "    print(col)\n"
   ]
  },
  {
   "cell_type": "markdown",
   "id": "09ce072e",
   "metadata": {},
   "source": [
    "# Data Preprocessing\n",
    "\n",
    "Preprocessing of the features that remain:\n",
    "- Numeric Features: leave as is, possibly standardize later\n",
    "- Binary Features: map to 0/1\n",
    "- Ordinal Categorical (e.g. nhg): map to 1,2,3\n",
    "- Nominal categorical (e.g. pam50 subtype): one-hot encode -> so we don't introduce an artificial order\n"
   ]
  },
  {
   "cell_type": "code",
   "execution_count": 6,
   "id": "b085b379",
   "metadata": {},
   "outputs": [],
   "source": [
    "\n",
    "clinical_df_cleaned = clinical_df.copy()\n",
    "\n",
    "# Clean up column names\n",
    "clinical_df_cleaned.columns = clinical_df_cleaned.columns.str.replace(r'^characteristics_ch1\\.\\d+\\.', '', regex=True)\n"
   ]
  },
  {
   "cell_type": "markdown",
   "id": "833e3151",
   "metadata": {},
   "source": [
    "## Columns to Drop\n",
    "- identifiers\n",
    "- duplicates"
   ]
  },
  {
   "cell_type": "code",
   "execution_count": 7,
   "id": "afca0f73",
   "metadata": {},
   "outputs": [],
   "source": [
    "cols_to_drop = ['sample_id', 'geo_accession', 'scan-b external id', 'relation']\n",
    "\n",
    "# Drop only if they exist (to avoid errors)\n",
    "clinical_df_cleaned = clinical_df_cleaned.drop(columns=[col for col in cols_to_drop if col in clinical_df_cleaned.columns])"
   ]
  },
  {
   "cell_type": "markdown",
   "id": "4557dace",
   "metadata": {},
   "source": [
    "### Instrument Model\n",
    "This is a feature that would be excluded before ML application but could be interesting during EDA (e.g. batch effects) and that is why I want to keep it for now. There are however three columns that seem to have the same consistent values with the same information ('instrument model', 'platform id' and 'instrument_model') so I check whether they have 100% match and if so, drop two of them and retain only one."
   ]
  },
  {
   "cell_type": "code",
   "execution_count": 8,
   "id": "16ddad1c",
   "metadata": {},
   "outputs": [
    {
     "name": "stdout",
     "output_type": "stream",
     "text": [
      "Series([], Name: platform_id, dtype: int64)\n"
     ]
    }
   ],
   "source": [
    "instrument_pairs = clinical_df_cleaned[['instrument model', 'platform_id']].dropna()\n",
    "mapping_check = instrument_pairs.groupby('instrument model')['platform_id'].nunique()\n",
    "print(mapping_check[mapping_check > 1])\n"
   ]
  },
  {
   "cell_type": "code",
   "execution_count": 9,
   "id": "08de4c9e",
   "metadata": {},
   "outputs": [
    {
     "name": "stdout",
     "output_type": "stream",
     "text": [
      "Series([], Name: instrument_model, dtype: int64)\n"
     ]
    }
   ],
   "source": [
    "instrument_pairs = clinical_df_cleaned[['instrument model', 'instrument_model']].dropna()\n",
    "mapping_check = instrument_pairs.groupby('instrument model')['instrument_model'].nunique()\n",
    "print(mapping_check[mapping_check > 1])\n"
   ]
  },
  {
   "cell_type": "markdown",
   "id": "0f5f7223",
   "metadata": {},
   "source": [
    "Since none map to more than one platform id / model, I can drop two cols."
   ]
  },
  {
   "cell_type": "code",
   "execution_count": 10,
   "id": "bd2ec558",
   "metadata": {},
   "outputs": [],
   "source": [
    "clinical_df_cleaned = clinical_df_cleaned.drop(columns=['platform_id', 'instrument_model'])"
   ]
  },
  {
   "cell_type": "markdown",
   "id": "91cdf751",
   "metadata": {},
   "source": [
    "## Numeric Columns\n",
    "no preprocessing necessary apart from transformation to numeric"
   ]
  },
  {
   "cell_type": "code",
   "execution_count": 11,
   "id": "7a96e273",
   "metadata": {},
   "outputs": [],
   "source": [
    "numeric_cols = [\n",
    "    'age at diagnosis',\n",
    "    'tumor size',\n",
    "    'overall survival days'\n",
    "]\n"
   ]
  },
  {
   "cell_type": "code",
   "execution_count": 12,
   "id": "b3a48738",
   "metadata": {},
   "outputs": [],
   "source": [
    "for col in numeric_cols:\n",
    "    try:\n",
    "        clinical_df_cleaned[col] = pd.to_numeric(clinical_df_cleaned[col], errors='coerce')\n",
    "    except Exception as e:\n",
    "        print(f\"Couldn't convert {col}: {e}\")\n"
   ]
  },
  {
   "cell_type": "markdown",
   "id": "35181534",
   "metadata": {},
   "source": [
    "## Binary Columns\n",
    "Binary columns are encoded in different ways. They should all numerically be 0 or 1 or NaN after preprocessing."
   ]
  },
  {
   "cell_type": "code",
   "execution_count": 13,
   "id": "e73b29d4",
   "metadata": {},
   "outputs": [],
   "source": [
    "# Encode lymph node status\n",
    "clinical_df_cleaned['lymph node status'] = clinical_df_cleaned['lymph node status'].map({\n",
    "    'NodeNegative': 0,\n",
    "    'NodePositive': 1\n",
    "})\n"
   ]
  },
  {
   "cell_type": "code",
   "execution_count": 14,
   "id": "ae29040d",
   "metadata": {},
   "outputs": [],
   "source": [
    "binary_cols = ['er status', 'pgr status', 'her2 status', 'ki67 status', 'er prediction mgc', 'pgr prediction mgc', 'her2 prediction mgc', 'ki67 prediction mgc', 'er prediction sgc', 'pgr prediction sgc', 'her2 prediction sgc', 'ki67 prediction sgc', 'overall survival event', 'endocrine treated', 'chemo treated']\n",
    "\n",
    "# Replace 'NA' strings with np.nan and convert to float\n",
    "for col in binary_cols:\n",
    "    clinical_df_cleaned[col] = clinical_df_cleaned[col].replace('NA', np.nan).astype(float)\n"
   ]
  },
  {
   "cell_type": "markdown",
   "id": "3ea05d34",
   "metadata": {},
   "source": [
    "## Ordinal Columns\n",
    "Label encode -> preserve order\n",
    "\n",
    "To create a mapping, the different unique values are examined."
   ]
  },
  {
   "cell_type": "code",
   "execution_count": 15,
   "id": "2ec42214",
   "metadata": {},
   "outputs": [
    {
     "name": "stdout",
     "output_type": "stream",
     "text": [
      "Nottingham Histologic Grades: ['G3' 'G2' 'G1' nan]\n",
      "Nottingham Histologic Grades Prediction: ['G3' 'G2']\n",
      "Lymph Node Group: ['NodeNegative' '1to3' '4toX' 'SubMicroMet' nan]\n"
     ]
    }
   ],
   "source": [
    "print(f\"Nottingham Histologic Grades: {clinical_df_cleaned['nhg'].unique()}\")\n",
    "print(f\"Nottingham Histologic Grades Prediction: {clinical_df_cleaned['nhg prediction mgc'].unique()}\")\n",
    "print(f\"Lymph Node Group: {clinical_df_cleaned['lymph node group'].unique()}\")"
   ]
  },
  {
   "cell_type": "markdown",
   "id": "23522453",
   "metadata": {},
   "source": [
    "Comment: interesting thet the NHG Prediction MGC only has grade 2 and 3!"
   ]
  },
  {
   "cell_type": "markdown",
   "id": "744ee22c",
   "metadata": {},
   "source": [
    "### Lymph Node Group\n",
    "Not sure whether to one hot encode or label encode -  there is an implicit order (Node Negative < SubmicroMet y< 1to3 < 4toX) but since the boundaries are fuzzy (SubMicroMet), this could also be a problem - solution: for now, use label encoding and potentially later on if using NN go back and one-hot-encode."
   ]
  },
  {
   "cell_type": "code",
   "execution_count": 16,
   "id": "292afeff",
   "metadata": {},
   "outputs": [],
   "source": [
    "ordinal_map = {\n",
    "    'nhg': {'G1': 1, 'G2': 2, 'G3': 3},\n",
    "    'nhg prediction mgc': {'G2': 2, 'G3': 3},\n",
    "    'lymph node group': {'NodeNegative': 0, 'SubMicroMet': 1, '1to3': 2, '4toX': 3}\n",
    "}\n",
    "\n",
    "for col, mapping in ordinal_map.items():\n",
    "    clinical_df_cleaned[col] = clinical_df_cleaned[col].replace('NA', np.nan)\n",
    "    clinical_df_cleaned[col] = clinical_df_cleaned[col].map(mapping)\n"
   ]
  },
  {
   "cell_type": "markdown",
   "id": "a598c775",
   "metadata": {},
   "source": [
    "## Non-Ordinal Columns\n",
    "One Hot Encode. Keep originals for now (might be useful for analyses)."
   ]
  },
  {
   "cell_type": "code",
   "execution_count": 17,
   "id": "fee59158",
   "metadata": {},
   "outputs": [],
   "source": [
    "cols_to_one_hot = ['last_update_date', 'instrument model', 'pam50 subtype']\n",
    "\n",
    "# 1. Rename original columns with OG_ prefix\n",
    "clinical_df_renamed = clinical_df_cleaned.rename(\n",
    "    columns={col: f'OG_{col}' for col in cols_to_one_hot}\n",
    ")\n",
    "\n",
    "# 2. Generate one-hot columns, with OHE_ prefix\n",
    "ohe = pd.get_dummies(\n",
    "    clinical_df_cleaned[cols_to_one_hot],\n",
    "    prefix=[f'OHE_{col}' for col in cols_to_one_hot],\n",
    "    prefix_sep='__',\n",
    "    dtype=int\n",
    ")\n",
    "\n",
    "# 3. Concatenate to original DataFrame (with OG_ columns)\n",
    "clinical_df_combined = pd.concat([clinical_df_renamed, ohe], axis=1)"
   ]
  },
  {
   "cell_type": "markdown",
   "id": "414babc8",
   "metadata": {},
   "source": [
    "Second version without keeping originals and renaming (for webapp)."
   ]
  },
  {
   "cell_type": "code",
   "execution_count": 18,
   "id": "1d04f239",
   "metadata": {},
   "outputs": [],
   "source": [
    "cols_to_one_hot = ['last_update_date', 'instrument model', 'pam50 subtype']\n",
    "\n",
    "clinical_df_onehot = pd.get_dummies(clinical_df_cleaned, columns=cols_to_one_hot, prefix_sep='__', dtype=int)"
   ]
  },
  {
   "cell_type": "markdown",
   "id": "0354e0cc",
   "metadata": {},
   "source": [
    "# Flag Columns\n",
    "I want to flag columns I will not be using for ML training but would still like to keep for ETA (since they might give useful information).\n",
    "- identifiers\n",
    "- technical metadata\n",
    "- prediction outputs from papers"
   ]
  },
  {
   "cell_type": "code",
   "execution_count": 19,
   "id": "4b8b0f43",
   "metadata": {},
   "outputs": [],
   "source": [
    "id_columns = [\n",
    "    'last_update_date__Mar 12 2018',\n",
    "    'last_update_date__May 04 2022',\n",
    "    'instrument model__HiSeq 2000',\n",
    "    'instrument model__NextSeq 500',\n",
    "    \"er prediction mgc\",\n",
    "    \"pgr prediction mgc\",\n",
    "    \"her2 prediction mgc\",\n",
    "    \"ki67 prediction mgc\",\n",
    "    \"nhg prediction mgc\",\n",
    "    \"er prediction sgc\",\n",
    "    \"pgr prediction sgc\",\n",
    "    \"her2 prediction sgc\",\n",
    "    \"ki67 prediction sgc\"\n",
    "]\n",
    "\n",
    "prediction_columns = [\n",
    "    col for col in clinical_df.columns if 'prediction' in col.lower()\n",
    "]\n",
    "\n",
    "excluded_columns = id_columns + prediction_columns"
   ]
  },
  {
   "cell_type": "markdown",
   "id": "c7538011",
   "metadata": {},
   "source": [
    "Before saving, I want to rename \"title\" to \"sample_id\", because that is what this column is called in the expression matrix dataset and I want to have them all named the same so it's easier to join and better in the db later."
   ]
  },
  {
   "cell_type": "markdown",
   "id": "ecb82386",
   "metadata": {},
   "source": [
    "# Export "
   ]
  },
  {
   "cell_type": "markdown",
   "id": "5557c1b1",
   "metadata": {},
   "source": [
    "## Normal"
   ]
  },
  {
   "cell_type": "code",
   "execution_count": null,
   "id": "f2531c37",
   "metadata": {},
   "outputs": [],
   "source": [
    "load_dotenv(dotenv_path=\"/Users/sarah/Code/bioinformatics-tool/analysis/.env\") \n",
    "\n",
    "def find_repo_root(start_path: Path = None) -> Path:\n",
    "    if start_path is None:\n",
    "        start_path = Path().resolve()\n",
    "    for parent in [start_path] + list(start_path.parents):\n",
    "        if (parent / '.git').exists():\n",
    "            return parent\n",
    "    raise RuntimeError(\"Could not find repo root!\")\n",
    "\n",
    "\n",
    "repo_root = find_repo_root()\n",
    "\n",
    "\n",
    "\n",
    "# Rename 'title' to 'sample_id' for clarity and consistency\n",
    "if clinical_df_combined.index.name == \"title\":\n",
    "    clinical_df_combined = clinical_df_combined.reset_index().rename(columns={\"title\": \"sample_id\"})\n",
    "\n",
    "path = repo_root / os.getenv(\"CLINICAL\")\n",
    "# Save to CSV (now with 'sample_id' as the column name)\n",
    "clinical_df_combined.to_csv(path,index=False)\n"
   ]
  },
  {
   "cell_type": "markdown",
   "id": "4d1f0a36",
   "metadata": {},
   "source": [
    "## One-Hot Encoded"
   ]
  },
  {
   "cell_type": "code",
   "execution_count": null,
   "id": "2eb06bde",
   "metadata": {},
   "outputs": [],
   "source": [
    "load_dotenv(dotenv_path=\"/Users/sarah/Code/bioinformatics-tool/analysis/.env\") \n",
    "\n",
    "def find_repo_root(start_path: Path = None) -> Path:\n",
    "    if start_path is None:\n",
    "        start_path = Path().resolve()\n",
    "    for parent in [start_path] + list(start_path.parents):\n",
    "        if (parent / '.git').exists():\n",
    "            return parent\n",
    "    raise RuntimeError(\"Could not find repo root!\")\n",
    "\n",
    "\n",
    "repo_root = find_repo_root()\n",
    "\n",
    "\n",
    "\n",
    "# Rename 'title' to 'sample_id' for clarity and consistency\n",
    "if clinical_df_onehot.index.name == \"title\":\n",
    "    clinical_df_onehot = clinical_df_onehot.reset_index().rename(columns={\"title\": \"sample_id\"})\n",
    "\n",
    "path = repo_root / os.getenv(\"CLINICAL_ONEHOT\")\n",
    "# Save to CSV (now with 'sample_id' as the column name)\n",
    "clinical_df_onehot.to_csv(path,index=False)\n"
   ]
  },
  {
   "cell_type": "markdown",
   "id": "34d78489",
   "metadata": {},
   "source": [
    "# Imputation\n",
    "Before imputing the missing values, I have a closer look at the missing data."
   ]
  },
  {
   "cell_type": "code",
   "execution_count": 21,
   "id": "6dfb4674",
   "metadata": {},
   "outputs": [
    {
     "data": {
      "text/html": [
       "<div>\n",
       "<style scoped>\n",
       "    .dataframe tbody tr th:only-of-type {\n",
       "        vertical-align: middle;\n",
       "    }\n",
       "\n",
       "    .dataframe tbody tr th {\n",
       "        vertical-align: top;\n",
       "    }\n",
       "\n",
       "    .dataframe thead th {\n",
       "        text-align: right;\n",
       "    }\n",
       "</style>\n",
       "<table border=\"1\" class=\"dataframe\">\n",
       "  <thead>\n",
       "    <tr style=\"text-align: right;\">\n",
       "      <th></th>\n",
       "      <th>missing_count</th>\n",
       "      <th>missing_percent</th>\n",
       "    </tr>\n",
       "  </thead>\n",
       "  <tbody>\n",
       "    <tr>\n",
       "      <th>ki67 status</th>\n",
       "      <td>1818</td>\n",
       "      <td>53.329422</td>\n",
       "    </tr>\n",
       "    <tr>\n",
       "      <th>pgr status</th>\n",
       "      <td>358</td>\n",
       "      <td>10.501613</td>\n",
       "    </tr>\n",
       "    <tr>\n",
       "      <th>er status</th>\n",
       "      <td>220</td>\n",
       "      <td>6.453505</td>\n",
       "    </tr>\n",
       "    <tr>\n",
       "      <th>her2 status</th>\n",
       "      <td>128</td>\n",
       "      <td>3.754767</td>\n",
       "    </tr>\n",
       "    <tr>\n",
       "      <th>lymph node group</th>\n",
       "      <td>101</td>\n",
       "      <td>2.962746</td>\n",
       "    </tr>\n",
       "    <tr>\n",
       "      <th>lymph node status</th>\n",
       "      <td>101</td>\n",
       "      <td>2.962746</td>\n",
       "    </tr>\n",
       "    <tr>\n",
       "      <th>nhg</th>\n",
       "      <td>65</td>\n",
       "      <td>1.906718</td>\n",
       "    </tr>\n",
       "    <tr>\n",
       "      <th>tumor size</th>\n",
       "      <td>35</td>\n",
       "      <td>1.026694</td>\n",
       "    </tr>\n",
       "    <tr>\n",
       "      <th>endocrine treated</th>\n",
       "      <td>22</td>\n",
       "      <td>0.645351</td>\n",
       "    </tr>\n",
       "    <tr>\n",
       "      <th>chemo treated</th>\n",
       "      <td>21</td>\n",
       "      <td>0.616016</td>\n",
       "    </tr>\n",
       "  </tbody>\n",
       "</table>\n",
       "</div>"
      ],
      "text/plain": [
       "                   missing_count  missing_percent\n",
       "ki67 status                 1818        53.329422\n",
       "pgr status                   358        10.501613\n",
       "er status                    220         6.453505\n",
       "her2 status                  128         3.754767\n",
       "lymph node group             101         2.962746\n",
       "lymph node status            101         2.962746\n",
       "nhg                           65         1.906718\n",
       "tumor size                    35         1.026694\n",
       "endocrine treated             22         0.645351\n",
       "chemo treated                 21         0.616016"
      ]
     },
     "execution_count": 21,
     "metadata": {},
     "output_type": "execute_result"
    }
   ],
   "source": [
    "# Number of missing values per column\n",
    "missing_counts = clinical_df_combined.isnull().sum()\n",
    "\n",
    "# Percentage of missing values per column\n",
    "missing_percent = clinical_df_combined.isnull().mean() * 100\n",
    "\n",
    "# Combine both into a single DataFrame for easy viewing\n",
    "missing_summary = pd.DataFrame({\n",
    "    'missing_count': missing_counts,\n",
    "    'missing_percent': missing_percent\n",
    "}).sort_values(by='missing_percent', ascending=False)\n",
    "\n",
    "missing_summary[missing_summary['missing_count'] > 0]"
   ]
  },
  {
   "cell_type": "markdown",
   "id": "627df67c",
   "metadata": {},
   "source": [
    "10 out of 26 columns have missing values, most are binary columns.\n",
    "\n",
    "ki67 status is missing for 53%! \n",
    "Could argue for dropping this column, but Davey et al. 2021 found that \"The expression of Ki-67 is strongly linked to tumour cell proliferation and growth and is routinely evaluated as a proliferation marker.\" -> keep\n"
   ]
  },
  {
   "cell_type": "code",
   "execution_count": 22,
   "id": "80861504",
   "metadata": {},
   "outputs": [
    {
     "data": {
      "image/png": "[encoded data removed]",
      "text/plain": [
       "<Figure size 1200x600 with 1 Axes>"
      ]
     },
     "metadata": {},
     "output_type": "display_data"
    }
   ],
   "source": [
    "prediction_cols = [col for col in clinical_df_combined.columns if \"prediction\" in col.lower()]\n",
    "\n",
    "\n",
    "clinical_no_predictions = clinical_df_combined.drop(columns=prediction_cols, errors='ignore')\n",
    "\n",
    "plt.figure(figsize=(12,6))\n",
    "sns.heatmap(clinical_no_predictions.isnull(), cbar=False)\n",
    "plt.show()\n"
   ]
  },
  {
   "cell_type": "markdown",
   "id": "ff6c91ca",
   "metadata": {},
   "source": [
    "Before the imputation, we remove all \"prediction\" columns, since I don't want to introduce any biases from the models that come from the original publication."
   ]
  },
  {
   "cell_type": "code",
   "execution_count": 23,
   "id": "66600e87",
   "metadata": {},
   "outputs": [],
   "source": [
    "prediction_cols = [col for col in clinical_df_combined.columns if \"prediction\" in col.lower()]\n",
    "\n",
    "# flag: 1 if measured (not missing), 0 if missing\n",
    "clinical_df_combined['ki67_measured'] = clinical_df_combined['ki67 status'].notna().astype(int)\n",
    "\n",
    "df_predict = clinical_df_combined[prediction_cols]\n",
    "df_no_predict = clinical_df_combined.drop(columns=prediction_cols)\n",
    "\n",
    "\n",
    "from sklearn.impute import KNNImputer\n",
    "\n",
    "binary_cols = [\n",
    "    'ki67 status', 'pgr status', 'er status', 'her2 status',\n",
    "    'lymph node group', 'lymph node status', 'nhg', \n",
    "    'tumor size', 'endocrine treated', 'chemo treated'\n",
    "]\n",
    "\n",
    "imputer = KNNImputer(n_neighbors=5)\n",
    "df_no_predict[binary_cols] = imputer.fit_transform(df_no_predict[binary_cols])\n",
    "df_no_predict[binary_cols] = df_no_predict[binary_cols].round().astype(int)\n",
    "\n",
    "\n",
    "df_final = pd.concat([df_no_predict, df_predict], axis=1)\n"
   ]
  },
  {
   "cell_type": "markdown",
   "id": "a201f94e",
   "metadata": {},
   "source": [
    "## Exporting the Imputed Dataset"
   ]
  },
  {
   "cell_type": "code",
   "execution_count": null,
   "id": "eff999ae",
   "metadata": {},
   "outputs": [],
   "source": [
    "load_dotenv(dotenv_path=\"/Users/sarah/Code/bioinformatics-tool/analysis/.env\") \n",
    "\n",
    "def find_repo_root(start_path: Path = None) -> Path:\n",
    "    if start_path is None:\n",
    "        start_path = Path().resolve()\n",
    "    for parent in [start_path] + list(start_path.parents):\n",
    "        if (parent / '.git').exists():\n",
    "            return parent\n",
    "    raise RuntimeError(\"Could not find repo root!\")\n",
    "\n",
    "\n",
    "repo_root = find_repo_root()\n",
    "\n",
    "\n",
    "\n",
    "# Rename 'title' to 'sample_id' for clarity and consistency\n",
    "if df_final.index.name == \"title\":\n",
    "    df_final = df_final.reset_index().rename(columns={\"title\": \"sample_id\"})\n",
    "\n",
    "path = repo_root / os.getenv(\"CLINICAL_IMPUTED\")\n",
    "# Save to CSV (now with 'sample_id' as the column name)\n",
    "df_final.to_csv(path,index=False)\n"
   ]
  }
 ],
 "metadata": {
  "kernelspec": {
   "display_name": "bioai",
   "language": "python",
   "name": "python3"
  },
  "language_info": {
   "codemirror_mode": {
    "name": "ipython",
    "version": 3
   },
   "file_extension": ".py",
   "mimetype": "text/x-python",
   "name": "python",
   "nbconvert_exporter": "python",
   "pygments_lexer": "ipython3",
   "version": "3.11.0"
  }
 },
 "nbformat": 4,
 "nbformat_minor": 5
}
