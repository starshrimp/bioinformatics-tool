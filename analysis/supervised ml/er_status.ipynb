{
 "cells": [
  {
   "cell_type": "code",
   "execution_count": 3,
   "id": "eef1ce31",
   "metadata": {},
   "outputs": [
    {
     "name": "stdout",
     "output_type": "stream",
     "text": [
      "/Users/sarah/Code/bioinformatics-tool\n",
      "              precision    recall  f1-score   support\n",
      "\n",
      " ER negative       0.81      0.71      0.76        48\n",
      " ER positive       0.98      0.99      0.98       567\n",
      "\n",
      "    accuracy                           0.96       615\n",
      "   macro avg       0.89      0.85      0.87       615\n",
      "weighted avg       0.96      0.96      0.96       615\n",
      "\n",
      "Confusion matrix:\n",
      " [[ 34  14]\n",
      " [  8 559]]\n"
     ]
    }
   ],
   "source": [
    "\n",
    "from sklearn.model_selection import train_test_split\n",
    "from sklearn.linear_model import LogisticRegression\n",
    "from sklearn.metrics import classification_report, confusion_matrix\n",
    "import numpy as np\n",
    "import pandas as pd\n",
    "import os\n",
    "from pathlib import Path\n",
    "from dotenv import load_dotenv\n",
    "\n",
    "load_dotenv(dotenv_path=\"/Users/sarah/Code/bioinformatics-tool/analysis/.env\") \n",
    "\n",
    "def find_repo_root(start_path: Path = None) -> Path:\n",
    "    if start_path is None:\n",
    "        start_path = Path().resolve()\n",
    "    for parent in [start_path] + list(start_path.parents):\n",
    "        if (parent / '.git').exists():\n",
    "            return parent\n",
    "    raise RuntimeError(\"Could not find repo root!\")\n",
    "\n",
    "\n",
    "repo_root = find_repo_root()\n",
    "\n",
    "print(repo_root)\n",
    "\n",
    "\n",
    "expression_path = repo_root / os.getenv(\"EM_COLLAPSED\")\n",
    "clinical_path = repo_root / os.getenv(\"CLINICAL\")\n",
    "\n",
    "expression = pd.read_csv(expression_path, index_col=0)\n",
    "clinical = pd.read_csv(clinical_path, index_col=0)\n",
    "\n",
    "# Align samples\n",
    "common_samples = expression.index.intersection(clinical.index)\n",
    "X = expression.loc[common_samples]\n",
    "clinical = clinical.loc[common_samples]\n",
    "\n",
    "## Drop samples with NaN in ER status\n",
    "mask = ~clinical[\"er status\"].isnull()\n",
    "X = X.loc[mask]\n",
    "clinical = clinical.loc[mask]\n",
    "y = clinical[\"er status\"]\n",
    "\n",
    "# Split data\n",
    "X_train, X_test, y_train, y_test = train_test_split(X, y, stratify=y, test_size=0.2, random_state=42)\n",
    "\n",
    "# Train classifier\n",
    "clf = LogisticRegression(max_iter=1000, class_weight=\"balanced\")\n",
    "clf.fit(X_train, y_train)\n",
    "\n",
    "# Predict and evaluate\n",
    "y_pred = clf.predict(X_test)\n",
    "print(classification_report(y_test, y_pred, target_names=[\"ER negative\", \"ER positive\"]))\n",
    "print(\"Confusion matrix:\\n\", confusion_matrix(y_test, y_pred))"
   ]
  },
  {
   "cell_type": "code",
   "execution_count": null,
   "id": "5850bf3c",
   "metadata": {},
   "outputs": [],
   "source": [
    "from sklearn.model_selection import GridSearchCV\n",
    "\n",
    "# Define model and parameter grid\n",
    "param_grid = {\n",
    "    \"C\": [0.01, 0.1, 1, 10, 100],\n",
    "    \"solver\": [\"liblinear\", \"lbfgs\"],\n",
    "    \"max_iter\": [500, 1000]\n",
    "}\n",
    "model = LogisticRegression(class_weight=\"balanced\")\n",
    "\n",
    "# Grid search\n",
    "grid = GridSearchCV(model, param_grid, cv=5, scoring=\"accuracy\", n_jobs=-1)\n",
    "grid.fit(X_train, y_train)\n",
    "\n",
    "print(\"Best parameters:\", grid.best_params_)\n",
    "print(f\"Best CV accuracy: {grid.best_score_:.3f}\")\n",
    "\n",
    "# Evaluate best model\n",
    "best_model = grid.best_estimator_\n",
    "y_pred = best_model.predict(X_test)\n",
    "print(\"Classification report:\\n\", classification_report(y_test, y_pred, target_names=[\"ER negative\", \"ER positive\"]))\n",
    "print(\"Confusion matrix:\\n\", confusion_matrix(y_test, y_pred))"
   ]
  }
 ],
 "metadata": {
  "kernelspec": {
   "display_name": "bioai",
   "language": "python",
   "name": "python3"
  },
  "language_info": {
   "codemirror_mode": {
    "name": "ipython",
    "version": 3
   },
   "file_extension": ".py",
   "mimetype": "text/x-python",
   "name": "python",
   "nbconvert_exporter": "python",
   "pygments_lexer": "ipython3",
   "version": "3.11.0"
  }
 },
 "nbformat": 4,
 "nbformat_minor": 5
}
