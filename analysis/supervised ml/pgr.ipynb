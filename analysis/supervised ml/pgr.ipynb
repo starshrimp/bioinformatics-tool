{
 "cells": [
  {
   "cell_type": "code",
   "execution_count": 1,
   "id": "91f3e7f7",
   "metadata": {},
   "outputs": [
    {
     "name": "stdout",
     "output_type": "stream",
     "text": [
      "/Users/sarah/Code/bioinformatics-tool\n",
      "              precision    recall  f1-score   support\n",
      "\n",
      "pgr negative       0.72      0.61      0.66        77\n",
      "pgr positive       0.94      0.96      0.95       511\n",
      "\n",
      "    accuracy                           0.92       588\n",
      "   macro avg       0.83      0.79      0.81       588\n",
      "weighted avg       0.91      0.92      0.92       588\n",
      "\n",
      "Confusion matrix:\n",
      " [[ 47  30]\n",
      " [ 18 493]]\n"
     ]
    }
   ],
   "source": [
    "\n",
    "from sklearn.model_selection import train_test_split\n",
    "from sklearn.linear_model import LogisticRegression\n",
    "from sklearn.metrics import classification_report, confusion_matrix\n",
    "import numpy as np\n",
    "import pandas as pd\n",
    "import os\n",
    "from pathlib import Path\n",
    "from dotenv import load_dotenv\n",
    "\n",
    "load_dotenv(dotenv_path=\"/Users/sarah/Code/bioinformatics-tool/analysis/.env\") \n",
    "\n",
    "def find_repo_root(start_path: Path = None) -> Path:\n",
    "    if start_path is None:\n",
    "        start_path = Path().resolve()\n",
    "    for parent in [start_path] + list(start_path.parents):\n",
    "        if (parent / '.git').exists():\n",
    "            return parent\n",
    "    raise RuntimeError(\"Could not find repo root!\")\n",
    "\n",
    "\n",
    "repo_root = find_repo_root()\n",
    "\n",
    "print(repo_root)\n",
    "\n",
    "\n",
    "expression_path = repo_root / os.getenv(\"EM_COLLAPSED\")\n",
    "clinical_path = repo_root / os.getenv(\"CLINICAL\")\n",
    "\n",
    "expression = pd.read_csv(expression_path, index_col=0)\n",
    "clinical = pd.read_csv(clinical_path, index_col=0)\n",
    "\n",
    "# Align samples\n",
    "common_samples = expression.index.intersection(clinical.index)\n",
    "X = expression.loc[common_samples]\n",
    "clinical = clinical.loc[common_samples]\n",
    "\n",
    "## Drop samples with NaN in ER status\n",
    "mask = ~clinical[\"pgr status\"].isnull()\n",
    "X = X.loc[mask]\n",
    "clinical = clinical.loc[mask]\n",
    "y = clinical[\"pgr status\"]\n",
    "\n",
    "# Split data\n",
    "X_train, X_test, y_train, y_test = train_test_split(X, y, stratify=y, test_size=0.2, random_state=42)\n",
    "\n",
    "# Train classifier\n",
    "clf = LogisticRegression(max_iter=1000, class_weight=\"balanced\")\n",
    "clf.fit(X_train, y_train)\n",
    "\n",
    "# Predict and evaluate\n",
    "y_pred = clf.predict(X_test)\n",
    "print(classification_report(y_test, y_pred, target_names=[\"pgr negative\", \"pgr positive\"]))\n",
    "print(\"Confusion matrix:\\n\", confusion_matrix(y_test, y_pred))"
   ]
  }
 ],
 "metadata": {
  "kernelspec": {
   "display_name": "bioai",
   "language": "python",
   "name": "python3"
  },
  "language_info": {
   "codemirror_mode": {
    "name": "ipython",
    "version": 3
   },
   "file_extension": ".py",
   "mimetype": "text/x-python",
   "name": "python",
   "nbconvert_exporter": "python",
   "pygments_lexer": "ipython3",
   "version": "3.11.0"
  }
 },
 "nbformat": 4,
 "nbformat_minor": 5
}
