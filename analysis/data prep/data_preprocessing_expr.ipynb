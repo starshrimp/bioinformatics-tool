{
 "cells": [
  {
   "cell_type": "markdown",
   "id": "6f6c5067",
   "metadata": {},
   "source": [
    "# Data Loading\n",
    "Data was downloaded from https://www.ncbi.nlm.nih.gov/geo/query/acc.cgi?acc=GSE96058, unzipped and stored in the data folder. \n",
    "The raw dataset is named \"em\" and its path can be found in the analysis .env file."
   ]
  },
  {
   "cell_type": "code",
   "execution_count": 24,
   "id": "2d739180",
   "metadata": {},
   "outputs": [],
   "source": [
    "import os\n",
    "import pandas as pd\n",
    "import matplotlib.pyplot as plt\n",
    "import pandas as pd\n",
    "import matplotlib.pyplot as plt\n",
    "from dotenv import load_dotenv\n",
    "\n",
    "load_dotenv(dotenv_path=\"/Users/sarah/Code/bioinformatics-tool/analysis/.env\") \n",
    "\n",
    "\n",
    "em = pd.read_csv(os.getenv(\"EM\"), index_col=0)"
   ]
  },
  {
   "cell_type": "code",
   "execution_count": 25,
   "id": "84e2e10f",
   "metadata": {},
   "outputs": [
    {
     "data": {
      "text/plain": [
       "(30865, 3409)"
      ]
     },
     "execution_count": 25,
     "metadata": {},
     "output_type": "execute_result"
    }
   ],
   "source": [
    "em.shape"
   ]
  },
  {
   "cell_type": "markdown",
   "id": "a966ba42",
   "metadata": {},
   "source": [
    "Traditionally, gene expression matrix data is in the format that each row is a gene and each column is a sample (because it's the default for most microarray, RNA-seq, and general bioinformatics data formats).  \n",
    "I am however transposing the dataset, for two reasons:\n",
    "1. I will be performing machine learning later on, which will require this input format (e.g. scikit-learn).\n",
    "2. I am more familiar with this format."
   ]
  },
  {
   "cell_type": "code",
   "execution_count": 26,
   "id": "32377ec3",
   "metadata": {},
   "outputs": [
    {
     "name": "stdout",
     "output_type": "stream",
     "text": [
      "Initial shape (samples x genes): (3409, 30865)\n"
     ]
    }
   ],
   "source": [
    "em_T = em.T\n",
    "print(f\"Initial shape (samples x genes): {em_T.shape}\")"
   ]
  },
  {
   "cell_type": "markdown",
   "id": "c922f210",
   "metadata": {},
   "source": [
    "## Loading of CLinical Metadata\n",
    "I also load this here because I might flag samples later."
   ]
  },
  {
   "cell_type": "code",
   "execution_count": 38,
   "id": "16aeb200",
   "metadata": {},
   "outputs": [
    {
     "name": "stdout",
     "output_type": "stream",
     "text": [
      "Sample metadata shape: (3409, 16)\n",
      "Sample columns: ['last_update_date', 'instrument model', 'age at diagnosis', 'tumor size', 'lymph node group', 'lymph node status', 'er status', 'pgr status', 'her2 status', 'ki67 status', 'nhg', 'pam50 subtype', 'overall survival days', 'overall survival event', 'endocrine treated', 'chemo treated']\n",
      "          last_update_date instrument model  age at diagnosis  tumor size  \\\n",
      "sample_id                                                                   \n",
      "F1             May 04 2022       HiSeq 2000                43         9.0   \n",
      "F2             May 04 2022       HiSeq 2000                48        14.0   \n",
      "F3             May 04 2022       HiSeq 2000                69        27.0   \n",
      "F4             May 04 2022       HiSeq 2000                39        51.0   \n",
      "F5             May 04 2022       HiSeq 2000                73        60.0   \n",
      "\n",
      "          lymph node group  lymph node status  er status  pgr status  \\\n",
      "sample_id                                                              \n",
      "F1            NodeNegative                0.0        NaN         NaN   \n",
      "F2                    1to3                1.0        1.0         1.0   \n",
      "F3                    4toX                1.0        1.0         1.0   \n",
      "F4                    1to3                1.0        1.0         NaN   \n",
      "F5                    4toX                1.0        1.0         NaN   \n",
      "\n",
      "           her2 status  ki67 status nhg pam50 subtype  overall survival days  \\\n",
      "sample_id                                                                      \n",
      "F1                 0.0          NaN  G3         Basal                   2367   \n",
      "F2                 0.0          NaN  G2          LumA                   2367   \n",
      "F3                 0.0          NaN  G3          LumB                   2168   \n",
      "F4                 1.0          NaN  G3          LumA                   2416   \n",
      "F5                 0.0          NaN  G2        Normal                   2389   \n",
      "\n",
      "           overall survival event  endocrine treated  chemo treated  \n",
      "sample_id                                                            \n",
      "F1                            0.0                0.0            1.0  \n",
      "F2                            0.0                1.0            1.0  \n",
      "F3                            1.0                1.0            1.0  \n",
      "F4                            0.0                1.0            1.0  \n",
      "F5                            0.0                1.0            0.0  \n"
     ]
    }
   ],
   "source": [
    "clinical_df = pd.read_csv(os.getenv(\"CLINICAL_LLM\"), index_col=0) # CLINICAL_LLM is the one that is not one-hot encoded -> better for analysis \n",
    "\n",
    "print(f\"Sample metadata shape: {clinical_df.shape}\")\n",
    "print(\"Sample columns:\", clinical_df.columns.tolist())\n",
    "print(clinical_df.head())\n"
   ]
  },
  {
   "cell_type": "markdown",
   "id": "293d6c6d",
   "metadata": {},
   "source": [
    "## Initial Overlook\n",
    "For the very first outlook over the data, a plot to see the distribution of the values"
   ]
  },
  {
   "cell_type": "code",
   "execution_count": 34,
   "id": "0a3f5297",
   "metadata": {},
   "outputs": [
    {
     "data": {
      "image/png": "[encoded data removed]",
      "text/plain": [
       "<Figure size 640x480 with 1 Axes>"
      ]
     },
     "metadata": {},
     "output_type": "display_data"
    }
   ],
   "source": [
    "all_values = em.values.flatten()\n",
    "\n",
    "# Plot a histogram\n",
    "plt.hist(all_values, bins=100, color='steelblue', edgecolor='black')\n",
    "plt.xlabel(\"Expression value\")\n",
    "plt.ylabel(\"Frequency\")\n",
    "plt.title(\"Distribution of expression values across all genes and samples\")\n",
    "plt.grid(True)\n",
    "plt.axvline(x=0, color='red', linestyle='--', label='Zero line')\n",
    "plt.legend()\n",
    "plt.show()"
   ]
  },
  {
   "cell_type": "markdown",
   "id": "0a45d9ac",
   "metadata": {},
   "source": [
    "Interesting:\n",
    "- we see that there is a spike\n",
    "- the spike is NOT at zero as we might expect\n",
    "- there are negative values\n",
    "\n",
    "\n",
    "Spike around -3: wondering where this value came from, could be a placeholder for no expression.\n",
    "\n",
    "Edit: \n",
    "The paper on the preprocessing of the dataset (https://pubmed.ncbi.nlm.nih.gov/32913985/) mentions:\n",
    "\"Gene expression data were pre-processed by collapsing on 27,979 unique gene symbols (sum of FPKM values of each matching transcript), adding to each gene’s expression measurement 0.1 FPKM, performing a log2 transformation, and centering the gene expression values by subtracting the row-wise (gene) median (calculated across the 49 primary data sets) from the values in each row of data.\"\n",
    "\n",
    "-> That would mean all rows with -3.219 have no expression. (because it is log(0+0.1)).\n",
    "\n",
    "BUT:\n",
    "- distribution is still right-skewed and not centered at zero -> no median zentering was applied yet?!"
   ]
  },
  {
   "cell_type": "markdown",
   "id": "5453090f",
   "metadata": {},
   "source": [
    "## Constant Columns\n",
    "In the preview, I noticed that there are columns that only contained one unique value in the whole dataset, so I deleted these columns to save computational time and power.\n",
    "\n",
    "Since it is unlikely that a column is constant for expression other than 0 expression, likely all columns that are constant are columns of gnees that are not being expressed at all, so I identify this."
   ]
  },
  {
   "cell_type": "code",
   "execution_count": 28,
   "id": "c8b38507",
   "metadata": {},
   "outputs": [
    {
     "name": "stdout",
     "output_type": "stream",
     "text": [
      "Number of constant columns: 2236\n",
      "Example constant columns: ['AB167336', 'AB209638', 'AB240007', 'AB240039', 'AB360851']\n",
      "Constant columns and their unique value:\n",
      "AB167336: [-3.32192809]\n",
      "AB209638: [-3.32192809]\n",
      "AB240007: [-3.32192809]\n",
      "AB240039: [-3.32192809]\n",
      "AB360851: [-3.32192809]\n"
     ]
    }
   ],
   "source": [
    "constant_cols = em_T.columns[em_T.nunique() <= 1]\n",
    "print(f\"Number of constant columns: {len(constant_cols)}\")\n",
    "if len(constant_cols) > 0:\n",
    "    print(\"Example constant columns:\", constant_cols[:5].tolist())\n",
    "\n",
    "if len(constant_cols) > 0:\n",
    "    print(\"Constant columns and their unique value:\")\n",
    "    for col in constant_cols[:5]:\n",
    "        unique_val = em_T[col].unique()\n",
    "        print(f\"{col}: {unique_val}\")"
   ]
  },
  {
   "cell_type": "markdown",
   "id": "7a2d35a6",
   "metadata": {},
   "source": [
    "## Low expression Columns\n",
    "The next step is to analyse whether we have columns that have low expression, they would not add to the value and cost computational time."
   ]
  },
  {
   "cell_type": "code",
   "execution_count": 29,
   "id": "1be2bb0b",
   "metadata": {},
   "outputs": [
    {
     "name": "stdout",
     "output_type": "stream",
     "text": [
      "Number of low-expression columns: 4715\n",
      "Example low-expression columns: ['6M1-18', '7M1-2', 'AA06', 'AB052595', 'AB107049']\n"
     ]
    },
    {
     "data": {
      "image/png": "[encoded data removed]",
      "text/plain": [
       "<Figure size 600x400 with 1 Axes>"
      ]
     },
     "metadata": {},
     "output_type": "display_data"
    }
   ],
   "source": [
    "import numpy as np\n",
    "pseudo_zero = np.log2(0.1)  # This is the value used in the dataset for no expression\n",
    "tolerance = 1e-2\n",
    "min_samples = int(0.01 * em_T.shape[0])\n",
    "\n",
    "# Count how many samples have expression different from pseudo_zero\n",
    "expressed = (np.abs(em_T - pseudo_zero) > tolerance).sum(axis=0)\n",
    "low_expression_cols = expressed[expressed < min_samples].index\n",
    "print(f\"Number of low-expression columns: {len(low_expression_cols)}\")\n",
    "if len(low_expression_cols) > 0:\n",
    "    print(\"Example low-expression columns:\", low_expression_cols[:5].tolist())\n",
    "\n",
    "medians = em_T[low_expression_cols].median(axis=0)\n",
    "plt.figure(figsize=(6,4))\n",
    "plt.hist(medians, bins=30)\n",
    "plt.xlabel(\"Median expression value\")\n",
    "plt.ylabel(\"Number of genes\")\n",
    "plt.title(\"Median expression of low-expression genes\")\n",
    "plt.show()"
   ]
  },
  {
   "cell_type": "code",
   "execution_count": 30,
   "id": "53152322",
   "metadata": {},
   "outputs": [
    {
     "name": "stdout",
     "output_type": "stream",
     "text": [
      "Number of columns before dropping constant and low expression columns: 30865\n",
      "Dropped 2236 constant columns.\n",
      "Dropped 2479 low-expression columns.\n",
      "Number of columns after dropping constant & low-expression columns: 26150\n"
     ]
    }
   ],
   "source": [
    "n_cols_before = em_T.shape[1]\n",
    "\n",
    "print(f\"Number of columns before dropping constant and low expression columns: {n_cols_before}\")\n",
    "\n",
    "# Drop constant columns\n",
    "cleaned_em_T = em_T.drop(columns=constant_cols)\n",
    "print(f\"Dropped {len(constant_cols)} constant columns.\")\n",
    "\n",
    "\n",
    "remaining_low_expression_cols = [col for col in low_expression_cols if col in cleaned_em_T.columns]\n",
    "\n",
    "filtered_em_T = cleaned_em_T.drop(columns=remaining_low_expression_cols)\n",
    "print(f\"Dropped {len(remaining_low_expression_cols)} low-expression columns.\")\n",
    "\n",
    "print(f\"Number of columns after dropping constant & low-expression columns: {filtered_em_T.shape[1]}\")"
   ]
  },
  {
   "cell_type": "markdown",
   "id": "286c1259",
   "metadata": {},
   "source": [
    "## NA-Check"
   ]
  },
  {
   "cell_type": "code",
   "execution_count": 31,
   "id": "f990b075",
   "metadata": {},
   "outputs": [
    {
     "name": "stdout",
     "output_type": "stream",
     "text": [
      "Series([], dtype: int64)\n"
     ]
    }
   ],
   "source": [
    "na_cols = filtered_em_T.isna().sum()\n",
    "na_cols = na_cols[na_cols > 0]\n",
    "print(na_cols)\n"
   ]
  },
  {
   "cell_type": "markdown",
   "id": "f25a2181",
   "metadata": {},
   "source": [
    "There are no NA values to take care of."
   ]
  },
  {
   "cell_type": "markdown",
   "id": "93aacd53",
   "metadata": {},
   "source": [
    "## Exporting the Filtered Dataset\n",
    "I want to export the current state of the dataset as \"filltered\", meaning that no other preprocessing besides removal of constant and low-expression columns."
   ]
  },
  {
   "cell_type": "code",
   "execution_count": 32,
   "id": "d1676f79",
   "metadata": {},
   "outputs": [
    {
     "name": "stdout",
     "output_type": "stream",
     "text": [
      "Filtered dataset saved to /Users/sarah/Code/bioinformatics-tool/backend/data/GSE96058_filtered.csv\n"
     ]
    }
   ],
   "source": [
    "filtered_em_T.to_csv(os.getenv(\"FILTERED\"), float_format='%.20f')\n",
    "print(f\"Filtered dataset saved to {os.getenv('FILTERED')}\") "
   ]
  },
  {
   "cell_type": "markdown",
   "id": "c3ec8a1f",
   "metadata": {},
   "source": [
    "# Quality Check"
   ]
  },
  {
   "cell_type": "markdown",
   "id": "782e0d4c",
   "metadata": {},
   "source": [
    "## Distribution of Expression across samples\n",
    "Trying to see whether there are samples that have constant high expression or low expression. In the next step, I try plot the distribution and identify the highest and lowest 1% of expression."
   ]
  },
  {
   "cell_type": "code",
   "execution_count": 35,
   "id": "2ed4f5a3",
   "metadata": {},
   "outputs": [
    {
     "data": {
      "image/png": "[encoded data removed]",
      "text/plain": [
       "<Figure size 800x400 with 1 Axes>"
      ]
     },
     "metadata": {},
     "output_type": "display_data"
    },
    {
     "name": "stdout",
     "output_type": "stream",
     "text": [
      "Number of expression sum outlier samples: 70\n"
     ]
    }
   ],
   "source": [
    "sample_sums = em_T.sum(axis=1)\n",
    "plt.figure(figsize=(8,4))\n",
    "plt.hist(sample_sums, bins=50)\n",
    "plt.xlabel(\"Total expression per sample\")\n",
    "plt.ylabel(\"Number of samples\")\n",
    "plt.title(\"Distribution of total expression across samples\")\n",
    "plt.show()\n",
    "\n",
    "# Identify samples with extremely low or high totals\n",
    "q_low, q_high = sample_sums.quantile([0.01, 0.99])\n",
    "outliers = sample_sums[(sample_sums < q_low) | (sample_sums > q_high)].index\n",
    "print(f\"Number of expression sum outlier samples: {len(outliers)}\")\n"
   ]
  },
  {
   "cell_type": "markdown",
   "id": "8eddea87",
   "metadata": {},
   "source": [
    "Flagging them for later removal."
   ]
  },
  {
   "cell_type": "code",
   "execution_count": 37,
   "id": "13fc6346",
   "metadata": {},
   "outputs": [
    {
     "name": "stdout",
     "output_type": "stream",
     "text": [
      "Bottom 1% outliers: 35\n",
      "Top 1% outliers: 35\n"
     ]
    }
   ],
   "source": [
    "q_low, q_high = sample_sums.quantile([0.01, 0.99])\n",
    "\n",
    "# Bottom 1%\n",
    "outliers_low = sample_sums[sample_sums < q_low].index\n",
    "# Top 1%\n",
    "outliers_high = sample_sums[sample_sums > q_high].index\n",
    "\n",
    "print(f\"Bottom 1% outliers: {len(outliers_low)}\")\n",
    "print(f\"Top 1% outliers: {len(outliers_high)}\")\n"
   ]
  },
  {
   "cell_type": "markdown",
   "id": "f0243f40",
   "metadata": {},
   "source": [
    "Next step is to flag them as outliers."
   ]
  },
  {
   "cell_type": "code",
   "execution_count": null,
   "id": "7e84920a",
   "metadata": {},
   "outputs": [
    {
     "name": "stdout",
     "output_type": "stream",
     "text": [
      "expression_outlier\n",
      "none    3339\n",
      "high      35\n",
      "low       35\n",
      "Name: count, dtype: int64\n"
     ]
    }
   ],
   "source": [
    "clinical_df['expression_outlier'] = 'none'\n",
    "\n",
    "# Flag bottom 1%\n",
    "clinical_df.loc[outliers_low, 'expression_outlier'] = 'low'\n",
    "# Flag top 1%\n",
    "clinical_df.loc[outliers_high, 'expression_outlier'] = 'high'\n",
    "\n",
    "# Check how many were flagged\n",
    "print(clinical_df['expression_outlier'].value_counts())\n"
   ]
  },
  {
   "cell_type": "code",
   "execution_count": null,
   "id": "e349c7d8",
   "metadata": {},
   "outputs": [
    {
     "name": "stdout",
     "output_type": "stream",
     "text": [
      "\n",
      "--- last_update_date ---\n",
      "Low outliers:\n",
      "last_update_date\n",
      "May 04 2022    33\n",
      "Mar 12 2018     2\n",
      "Name: count, dtype: int64\n",
      "High outliers:\n",
      "last_update_date\n",
      "May 04 2022    33\n",
      "Mar 12 2018     2\n",
      "Name: count, dtype: int64\n",
      "All samples:\n",
      "last_update_date\n",
      "May 04 2022    3207\n",
      "Mar 12 2018     202\n",
      "Name: count, dtype: int64\n",
      "\n",
      "--- instrument model ---\n",
      "Low outliers:\n",
      "instrument model\n",
      "HiSeq 2000     33\n",
      "NextSeq 500     2\n",
      "Name: count, dtype: int64\n",
      "High outliers:\n",
      "instrument model\n",
      "HiSeq 2000     34\n",
      "NextSeq 500     1\n",
      "Name: count, dtype: int64\n",
      "All samples:\n",
      "instrument model\n",
      "HiSeq 2000     3069\n",
      "NextSeq 500     340\n",
      "Name: count, dtype: int64\n",
      "\n",
      "--- age at diagnosis ---\n",
      "Low outliers:\n",
      "age at diagnosis\n",
      "74    3\n",
      "82    3\n",
      "54    2\n",
      "79    2\n",
      "66    2\n",
      "80    2\n",
      "88    2\n",
      "71    2\n",
      "57    2\n",
      "65    1\n",
      "60    1\n",
      "68    1\n",
      "51    1\n",
      "63    1\n",
      "45    1\n",
      "84    1\n",
      "77    1\n",
      "69    1\n",
      "78    1\n",
      "56    1\n",
      "43    1\n",
      "75    1\n",
      "67    1\n",
      "89    1\n",
      "Name: count, dtype: int64\n",
      "High outliers:\n",
      "age at diagnosis\n",
      "53    3\n",
      "58    3\n",
      "73    2\n",
      "52    2\n",
      "64    2\n",
      "63    2\n",
      "60    2\n",
      "65    2\n",
      "67    2\n",
      "74    1\n",
      "46    1\n",
      "71    1\n",
      "55    1\n",
      "80    1\n",
      "72    1\n",
      "51    1\n",
      "88    1\n",
      "78    1\n",
      "56    1\n",
      "33    1\n",
      "54    1\n",
      "59    1\n",
      "42    1\n",
      "61    1\n",
      "Name: count, dtype: int64\n",
      "All samples:\n",
      "age at diagnosis\n",
      "69    132\n",
      "67    128\n",
      "66    124\n",
      "68    118\n",
      "64    107\n",
      "     ... \n",
      "94      2\n",
      "24      2\n",
      "95      2\n",
      "96      1\n",
      "93      1\n",
      "Name: count, Length: 72, dtype: int64\n",
      "\n",
      "--- tumor size ---\n",
      "Low outliers:\n",
      "tumor size\n",
      "16.0     4\n",
      "12.0     4\n",
      "15.0     3\n",
      "18.0     3\n",
      "34.0     2\n",
      "11.0     2\n",
      "60.0     2\n",
      "35.0     1\n",
      "8.0      1\n",
      "22.0     1\n",
      "24.0     1\n",
      "19.0     1\n",
      "100.0    1\n",
      "6.0      1\n",
      "31.0     1\n",
      "32.0     1\n",
      "9.0      1\n",
      "28.0     1\n",
      "36.0     1\n",
      "1.0      1\n",
      "21.0     1\n",
      "33.0     1\n",
      "Name: count, dtype: int64\n",
      "High outliers:\n",
      "tumor size\n",
      "17.0    6\n",
      "14.0    4\n",
      "13.0    3\n",
      "22.0    3\n",
      "10.0    2\n",
      "12.0    2\n",
      "23.0    2\n",
      "19.0    2\n",
      "37.0    1\n",
      "11.0    1\n",
      "2.0     1\n",
      "18.0    1\n",
      "20.0    1\n",
      "69.0    1\n",
      "15.0    1\n",
      "21.0    1\n",
      "36.0    1\n",
      "42.0    1\n",
      "33.0    1\n",
      "Name: count, dtype: int64\n",
      "All samples:\n",
      "tumor size\n",
      "15.0     256\n",
      "12.0     208\n",
      "20.0     204\n",
      "11.0     187\n",
      "14.0     182\n",
      "        ... \n",
      "85.0       1\n",
      "120.0      1\n",
      "61.0       1\n",
      "68.0       1\n",
      "77.0       1\n",
      "Name: count, Length: 81, dtype: int64\n",
      "\n",
      "--- lymph node group ---\n",
      "Low outliers:\n",
      "lymph node group\n",
      "NodeNegative    18\n",
      "1to3            10\n",
      "4toX             6\n",
      "SubMicroMet      1\n",
      "Name: count, dtype: int64\n",
      "High outliers:\n",
      "lymph node group\n",
      "NodeNegative    17\n",
      "1to3            13\n",
      "4toX             4\n",
      "NaN              1\n",
      "Name: count, dtype: int64\n",
      "All samples:\n",
      "lymph node group\n",
      "NodeNegative    2027\n",
      "1to3             897\n",
      "4toX             312\n",
      "NaN              101\n",
      "SubMicroMet       72\n",
      "Name: count, dtype: int64\n",
      "\n",
      "--- lymph node status ---\n",
      "Low outliers:\n",
      "lymph node status\n",
      "0.0    19\n",
      "1.0    16\n",
      "Name: count, dtype: int64\n",
      "High outliers:\n",
      "lymph node status\n",
      "0.0    17\n",
      "1.0    17\n",
      "NaN     1\n",
      "Name: count, dtype: int64\n",
      "All samples:\n",
      "lymph node status\n",
      "0.0    2099\n",
      "1.0    1209\n",
      "NaN     101\n",
      "Name: count, dtype: int64\n",
      "\n",
      "--- er status ---\n",
      "Low outliers:\n",
      "er status\n",
      "1.0    25\n",
      "0.0     6\n",
      "NaN     4\n",
      "Name: count, dtype: int64\n",
      "High outliers:\n",
      "er status\n",
      "1.0    32\n",
      "0.0     2\n",
      "NaN     1\n",
      "Name: count, dtype: int64\n",
      "All samples:\n",
      "er status\n",
      "1.0    2935\n",
      "0.0     254\n",
      "NaN     220\n",
      "Name: count, dtype: int64\n",
      "\n",
      "--- pgr status ---\n",
      "Low outliers:\n",
      "pgr status\n",
      "1.0    22\n",
      "0.0     8\n",
      "NaN     5\n",
      "Name: count, dtype: int64\n",
      "High outliers:\n",
      "pgr status\n",
      "1.0    30\n",
      "0.0     3\n",
      "NaN     2\n",
      "Name: count, dtype: int64\n",
      "All samples:\n",
      "pgr status\n",
      "1.0    2644\n",
      "0.0     407\n",
      "NaN     358\n",
      "Name: count, dtype: int64\n",
      "\n",
      "--- her2 status ---\n",
      "Low outliers:\n",
      "her2 status\n",
      "0.0    31\n",
      "1.0     2\n",
      "NaN     2\n",
      "Name: count, dtype: int64\n",
      "High outliers:\n",
      "her2 status\n",
      "0.0    31\n",
      "1.0     3\n",
      "NaN     1\n",
      "Name: count, dtype: int64\n",
      "All samples:\n",
      "her2 status\n",
      "0.0    2843\n",
      "1.0     438\n",
      "NaN     128\n",
      "Name: count, dtype: int64\n",
      "\n",
      "--- ki67 status ---\n",
      "Low outliers:\n",
      "ki67 status\n",
      "1.0    14\n",
      "NaN    14\n",
      "0.0     7\n",
      "Name: count, dtype: int64\n",
      "High outliers:\n",
      "ki67 status\n",
      "NaN    24\n",
      "0.0     6\n",
      "1.0     5\n",
      "Name: count, dtype: int64\n",
      "All samples:\n",
      "ki67 status\n",
      "NaN    1818\n",
      "1.0     940\n",
      "0.0     651\n",
      "Name: count, dtype: int64\n",
      "\n",
      "--- nhg ---\n",
      "Low outliers:\n",
      "nhg\n",
      "G3    17\n",
      "G2    13\n",
      "G1     5\n",
      "Name: count, dtype: int64\n",
      "High outliers:\n",
      "nhg\n",
      "G2    20\n",
      "G3    10\n",
      "G1     5\n",
      "Name: count, dtype: int64\n",
      "All samples:\n",
      "nhg\n",
      "G2     1593\n",
      "G3     1246\n",
      "G1      505\n",
      "NaN      65\n",
      "Name: count, dtype: int64\n",
      "\n",
      "--- pam50 subtype ---\n",
      "Low outliers:\n",
      "pam50 subtype\n",
      "Basal     12\n",
      "LumB      10\n",
      "LumA       7\n",
      "Her2       3\n",
      "Normal     3\n",
      "Name: count, dtype: int64\n",
      "High outliers:\n",
      "pam50 subtype\n",
      "LumA      21\n",
      "Normal    11\n",
      "Basal      2\n",
      "LumB       1\n",
      "Name: count, dtype: int64\n",
      "All samples:\n",
      "pam50 subtype\n",
      "LumA      1709\n",
      "LumB       767\n",
      "Basal      360\n",
      "Her2       348\n",
      "Normal     225\n",
      "Name: count, dtype: int64\n",
      "\n",
      "--- overall survival days ---\n",
      "Low outliers:\n",
      "overall survival days\n",
      "1562    2\n",
      "2361    1\n",
      "1391    1\n",
      "1306    1\n",
      "1211    1\n",
      "2167    1\n",
      "1949    1\n",
      "427     1\n",
      "1570    1\n",
      "2417    1\n",
      "2298    1\n",
      "2033    1\n",
      "1133    1\n",
      "1652    1\n",
      "1586    1\n",
      "1543    1\n",
      "2327    1\n",
      "849     1\n",
      "1508    1\n",
      "255     1\n",
      "525     1\n",
      "1282    1\n",
      "1403    1\n",
      "1177    1\n",
      "1363    1\n",
      "1144    1\n",
      "1333    1\n",
      "1955    1\n",
      "2224    1\n",
      "2312    1\n",
      "2353    1\n",
      "1279    1\n",
      "1236    1\n",
      "374     1\n",
      "Name: count, dtype: int64\n",
      "High outliers:\n",
      "overall survival days\n",
      "2420    2\n",
      "1747    1\n",
      "2388    1\n",
      "1390    1\n",
      "1382    1\n",
      "1705    1\n",
      "1535    1\n",
      "1409    1\n",
      "2116    1\n",
      "2103    1\n",
      "2053    1\n",
      "1597    1\n",
      "2038    1\n",
      "1738    1\n",
      "2453    1\n",
      "2438    1\n",
      "1494    1\n",
      "1529    1\n",
      "1864    1\n",
      "2109    1\n",
      "2256    1\n",
      "2332    1\n",
      "1248    1\n",
      "1968    1\n",
      "862     1\n",
      "863     1\n",
      "1752    1\n",
      "2307    1\n",
      "996     1\n",
      "1439    1\n",
      "1726    1\n",
      "2052    1\n",
      "2096    1\n",
      "342     1\n",
      "Name: count, dtype: int64\n",
      "All samples:\n",
      "overall survival days\n",
      "1212    15\n",
      "1235    11\n",
      "2325    11\n",
      "1543    11\n",
      "1912    10\n",
      "        ..\n",
      "1397     1\n",
      "1558     1\n",
      "641      1\n",
      "231      1\n",
      "843      1\n",
      "Name: count, Length: 1171, dtype: int64\n",
      "\n",
      "--- overall survival event ---\n",
      "Low outliers:\n",
      "overall survival event\n",
      "0.0    29\n",
      "1.0     6\n",
      "Name: count, dtype: int64\n",
      "High outliers:\n",
      "overall survival event\n",
      "0.0    32\n",
      "1.0     3\n",
      "Name: count, dtype: int64\n",
      "All samples:\n",
      "overall survival event\n",
      "0.0    3056\n",
      "1.0     353\n",
      "Name: count, dtype: int64\n",
      "\n",
      "--- endocrine treated ---\n",
      "Low outliers:\n",
      "endocrine treated\n",
      "1.0    20\n",
      "0.0    13\n",
      "NaN     2\n",
      "Name: count, dtype: int64\n",
      "High outliers:\n",
      "endocrine treated\n",
      "1.0    29\n",
      "0.0     5\n",
      "NaN     1\n",
      "Name: count, dtype: int64\n",
      "All samples:\n",
      "endocrine treated\n",
      "1.0    2626\n",
      "0.0     761\n",
      "NaN      22\n",
      "Name: count, dtype: int64\n",
      "\n",
      "--- chemo treated ---\n",
      "Low outliers:\n",
      "chemo treated\n",
      "0.0    22\n",
      "1.0    11\n",
      "NaN     2\n",
      "Name: count, dtype: int64\n",
      "High outliers:\n",
      "chemo treated\n",
      "0.0    21\n",
      "1.0    14\n",
      "Name: count, dtype: int64\n",
      "All samples:\n",
      "chemo treated\n",
      "0.0    2017\n",
      "1.0    1371\n",
      "NaN      21\n",
      "Name: count, dtype: int64\n"
     ]
    }
   ],
   "source": [
    "low_mask = clinical_df['expression_outlier'] == 'low'\n",
    "high_mask = clinical_df['expression_outlier'] == 'high'\n",
    "\n",
    "for col in clinical_df.columns:\n",
    "    # Skip the outlier column itself\n",
    "    if col == \"expression_outlier\":\n",
    "        continue\n",
    "    print(f\"\\n--- {col} ---\")\n",
    "    # Only check if column isn't all unique (i.e., categorical or repeated values)\n",
    "    if clinical_df[col].nunique() < clinical_df.shape[0] / 2:\n",
    "        print(\"Low outliers:\")\n",
    "        print(clinical_df.loc[low_mask, col].value_counts(dropna=False))\n",
    "        print(\"High outliers:\")\n",
    "        print(clinical_df.loc[high_mask, col].value_counts(dropna=False))\n",
    "        print(\"All samples:\")\n",
    "        print(clinical_df[col].value_counts(dropna=False))\n",
    "    else:\n",
    "        print(\"Skipped (likely numeric or all unique)\")\n"
   ]
  },
  {
   "cell_type": "markdown",
   "id": "dd1cf1d1",
   "metadata": {},
   "source": [
    "## Unexpressed Genes\n",
    "Identifying columns with an unusually high number of expressed genes per sample.\n",
    "They could have lower quality—due to poor RNA input, technical issues, or failed library prep."
   ]
  },
  {
   "cell_type": "code",
   "execution_count": 41,
   "id": "9a95e738",
   "metadata": {},
   "outputs": [
    {
     "data": {
      "image/png": "[encoded data removed]",
      "text/plain": [
       "<Figure size 800x400 with 1 Axes>"
      ]
     },
     "metadata": {},
     "output_type": "display_data"
    },
    {
     "name": "stdout",
     "output_type": "stream",
     "text": [
      "Samples with unusually high numbers of unexpressed genes: 35\n"
     ]
    }
   ],
   "source": [
    "num_unexpressed = (np.abs(em_T - pseudo_zero) < tolerance).sum(axis=1)\n",
    "plt.figure(figsize=(8,4))\n",
    "plt.hist(num_unexpressed, bins=50)\n",
    "plt.xlabel(\"Number of unexpressed genes\")\n",
    "plt.ylabel(\"Number of samples\")\n",
    "plt.title(\"Unexpressed genes per sample\")\n",
    "plt.show()\n",
    "\n",
    "# Flag samples with unusually high numbers of unexpressed genes (e.g., >99th percentile)\n",
    "unexpr_threshold = num_unexpressed.quantile(0.99)\n",
    "bad_samples_unexpr = num_unexpressed[num_unexpressed > unexpr_threshold].index\n",
    "print(f\"Samples with unusually high numbers of unexpressed genes: {len(bad_samples_unexpr)}\")\n"
   ]
  },
  {
   "cell_type": "code",
   "execution_count": 44,
   "id": "99d6ff0a",
   "metadata": {},
   "outputs": [
    {
     "name": "stdout",
     "output_type": "stream",
     "text": [
      "Samples flagged by both metrics: 7\n"
     ]
    }
   ],
   "source": [
    "clinical_df['many_unexpressed_genes'] = False\n",
    "clinical_df.loc[bad_samples_unexpr, 'many_unexpressed_genes'] = True\n",
    "\n",
    "overlap = clinical_df[(clinical_df['expression_outlier'] != 'none') & (clinical_df['many_unexpressed_genes'])]\n",
    "print(f\"Samples flagged by both metrics: {len(overlap)}\")\n"
   ]
  },
  {
   "cell_type": "code",
   "execution_count": 45,
   "id": "503281dc",
   "metadata": {},
   "outputs": [
    {
     "data": {
      "image/png": "[encoded data removed]",
      "text/plain": [
       "<Figure size 1400x400 with 1 Axes>"
      ]
     },
     "metadata": {},
     "output_type": "display_data"
    }
   ],
   "source": [
    "plt.figure(figsize=(14, 4))\n",
    "plt.boxplot(em_T.values, showfliers=False)\n",
    "plt.xlabel(\"Samples\")\n",
    "plt.ylabel(\"Expression\")\n",
    "plt.title(\"Boxplot of expression values per sample\")\n",
    "plt.show()\n"
   ]
  },
  {
   "cell_type": "markdown",
   "id": "c8eb6506",
   "metadata": {},
   "source": [
    "## Analysis of Technical Replicates\n",
    "The dataset contains technical replicates, indicated by \"repl\" behind the id number -> I would like to check whether they are similar to the original sample."
   ]
  },
  {
   "cell_type": "code",
   "execution_count": 47,
   "id": "1f29cd6f",
   "metadata": {},
   "outputs": [],
   "source": [
    "sample_ids = em_T.index.tolist()\n",
    "\n",
    "# Map technical replicates to their primary sample\n",
    "def get_primary_id(sample_id):\n",
    "    return sample_id.replace(\"repl\", \"\") if sample_id.endswith(\"repl\") else sample_id\n",
    "\n",
    "# Build a DataFrame mapping\n",
    "replicate_map = pd.DataFrame({\n",
    "    \"sample_id\": sample_ids,\n",
    "    \"primary_id\": [get_primary_id(sid) for sid in sample_ids]\n",
    "})\n"
   ]
  },
  {
   "cell_type": "code",
   "execution_count": 52,
   "id": "ac3c612d",
   "metadata": {},
   "outputs": [
    {
     "name": "stdout",
     "output_type": "stream",
     "text": [
      "Primary F1101: 2 samples, mean pairwise corr = 0.971\n",
      "Primary F1108: 2 samples, mean pairwise corr = 0.972\n",
      "Primary F112: 2 samples, mean pairwise corr = 0.961\n",
      "Primary F1143: 2 samples, mean pairwise corr = 0.973\n",
      "Primary F1156: 2 samples, mean pairwise corr = 0.972\n",
      "Primary F116: 2 samples, mean pairwise corr = 0.964\n",
      "Primary F1167: 2 samples, mean pairwise corr = 0.966\n",
      "Primary F1197: 2 samples, mean pairwise corr = 0.973\n",
      "Primary F1214: 2 samples, mean pairwise corr = 0.968\n",
      "Primary F1283: 2 samples, mean pairwise corr = 0.975\n",
      "Primary F1392: 2 samples, mean pairwise corr = 0.960\n",
      "Primary F1438: 2 samples, mean pairwise corr = 0.976\n",
      "Primary F1439: 2 samples, mean pairwise corr = 0.963\n",
      "Primary F1497: 2 samples, mean pairwise corr = 0.965\n",
      "Primary F1515: 2 samples, mean pairwise corr = 0.962\n",
      "Primary F1519: 2 samples, mean pairwise corr = 0.974\n",
      "Primary F1580: 2 samples, mean pairwise corr = 0.973\n",
      "Primary F1581: 2 samples, mean pairwise corr = 0.976\n",
      "Primary F1582: 2 samples, mean pairwise corr = 0.971\n",
      "Primary F1584: 2 samples, mean pairwise corr = 0.973\n",
      "Primary F1587: 2 samples, mean pairwise corr = 0.973\n",
      "Primary F1591: 2 samples, mean pairwise corr = 0.972\n",
      "Primary F1605: 2 samples, mean pairwise corr = 0.978\n",
      "Primary F1617: 2 samples, mean pairwise corr = 0.970\n",
      "Primary F1628: 2 samples, mean pairwise corr = 0.968\n",
      "Primary F1635: 2 samples, mean pairwise corr = 0.970\n",
      "Primary F1640: 2 samples, mean pairwise corr = 0.966\n",
      "Primary F1648: 2 samples, mean pairwise corr = 0.974\n",
      "Primary F1658: 2 samples, mean pairwise corr = 0.976\n",
      "Primary F1689: 2 samples, mean pairwise corr = 0.977\n",
      "Primary F1748: 2 samples, mean pairwise corr = 0.978\n",
      "Primary F1781: 2 samples, mean pairwise corr = 0.969\n",
      "Primary F184: 2 samples, mean pairwise corr = 0.972\n",
      "Primary F185: 2 samples, mean pairwise corr = 0.971\n",
      "Primary F187: 2 samples, mean pairwise corr = 0.980\n",
      "Primary F1905: 2 samples, mean pairwise corr = 0.968\n",
      "Primary F1923: 2 samples, mean pairwise corr = 0.977\n",
      "Primary F1928: 2 samples, mean pairwise corr = 0.970\n",
      "Primary F1950: 2 samples, mean pairwise corr = 0.969\n",
      "Primary F1965: 2 samples, mean pairwise corr = 0.964\n",
      "Primary F2018: 2 samples, mean pairwise corr = 0.976\n",
      "Primary F2067: 2 samples, mean pairwise corr = 0.963\n",
      "Primary F2069: 2 samples, mean pairwise corr = 0.966\n",
      "Primary F2151: 2 samples, mean pairwise corr = 0.971\n",
      "Primary F2174: 2 samples, mean pairwise corr = 0.969\n",
      "Primary F2175: 2 samples, mean pairwise corr = 0.974\n",
      "Primary F218: 2 samples, mean pairwise corr = 0.966\n",
      "Primary F2277: 2 samples, mean pairwise corr = 0.954\n",
      "Primary F2281: 2 samples, mean pairwise corr = 0.967\n",
      "Primary F2287: 2 samples, mean pairwise corr = 0.970\n",
      "Primary F229: 2 samples, mean pairwise corr = 0.973\n",
      "Primary F2299: 2 samples, mean pairwise corr = 0.983\n",
      "Primary F2359: 2 samples, mean pairwise corr = 0.970\n",
      "Primary F2384: 2 samples, mean pairwise corr = 0.974\n",
      "Primary F2390: 2 samples, mean pairwise corr = 0.976\n",
      "Primary F2398: 2 samples, mean pairwise corr = 0.975\n",
      "Primary F2406: 2 samples, mean pairwise corr = 0.973\n",
      "Primary F2407: 2 samples, mean pairwise corr = 0.977\n",
      "Primary F2408: 2 samples, mean pairwise corr = 0.968\n",
      "Primary F2424: 2 samples, mean pairwise corr = 0.962\n",
      "Primary F2459: 2 samples, mean pairwise corr = 0.969\n",
      "Primary F2482: 2 samples, mean pairwise corr = 0.950\n",
      "Primary F2503: 2 samples, mean pairwise corr = 0.968\n",
      "Primary F2539: 2 samples, mean pairwise corr = 0.970\n",
      "Primary F2621: 2 samples, mean pairwise corr = 0.977\n",
      "Primary F2625: 2 samples, mean pairwise corr = 0.973\n",
      "Primary F2632: 2 samples, mean pairwise corr = 0.971\n",
      "Primary F2656: 2 samples, mean pairwise corr = 0.963\n",
      "Primary F2679: 2 samples, mean pairwise corr = 0.966\n",
      "Primary F2691: 2 samples, mean pairwise corr = 0.959\n",
      "Primary F2703: 2 samples, mean pairwise corr = 0.966\n",
      "Primary F274: 2 samples, mean pairwise corr = 0.967\n",
      "Primary F2755: 2 samples, mean pairwise corr = 0.963\n",
      "Primary F2781: 2 samples, mean pairwise corr = 0.979\n",
      "Primary F2790: 2 samples, mean pairwise corr = 0.974\n",
      "Primary F282: 2 samples, mean pairwise corr = 0.965\n",
      "Primary F2840: 2 samples, mean pairwise corr = 0.969\n",
      "Primary F2841: 2 samples, mean pairwise corr = 0.968\n",
      "Primary F2860: 2 samples, mean pairwise corr = 0.977\n",
      "Primary F2871: 2 samples, mean pairwise corr = 0.975\n",
      "Primary F2872: 2 samples, mean pairwise corr = 0.974\n",
      "Primary F2877: 2 samples, mean pairwise corr = 0.970\n",
      "Primary F2911: 2 samples, mean pairwise corr = 0.964\n",
      "Primary F2912: 2 samples, mean pairwise corr = 0.975\n",
      "Primary F2921: 2 samples, mean pairwise corr = 0.979\n",
      "Primary F2958: 2 samples, mean pairwise corr = 0.972\n",
      "Primary F2974: 2 samples, mean pairwise corr = 0.973\n",
      "Primary F30: 2 samples, mean pairwise corr = 0.969\n",
      "Primary F3006: 2 samples, mean pairwise corr = 0.974\n",
      "Primary F3028: 2 samples, mean pairwise corr = 0.971\n",
      "Primary F3057: 2 samples, mean pairwise corr = 0.964\n",
      "Primary F3058: 2 samples, mean pairwise corr = 0.976\n",
      "Primary F3085: 2 samples, mean pairwise corr = 0.971\n",
      "Primary F3127: 2 samples, mean pairwise corr = 0.975\n",
      "Primary F3135: 2 samples, mean pairwise corr = 0.973\n",
      "Primary F3250: 2 samples, mean pairwise corr = 0.969\n",
      "Primary F3265: 2 samples, mean pairwise corr = 0.964\n",
      "Primary F327: 2 samples, mean pairwise corr = 0.976\n",
      "Primary F405: 2 samples, mean pairwise corr = 0.976\n",
      "Primary F437: 2 samples, mean pairwise corr = 0.967\n",
      "Primary F445: 2 samples, mean pairwise corr = 0.960\n",
      "Primary F461: 2 samples, mean pairwise corr = 0.968\n",
      "Primary F49: 2 samples, mean pairwise corr = 0.977\n",
      "Primary F498: 2 samples, mean pairwise corr = 0.968\n",
      "Primary F54: 2 samples, mean pairwise corr = 0.971\n",
      "Primary F542: 2 samples, mean pairwise corr = 0.978\n",
      "Primary F545: 2 samples, mean pairwise corr = 0.970\n",
      "Primary F573: 2 samples, mean pairwise corr = 0.963\n",
      "Primary F574: 2 samples, mean pairwise corr = 0.964\n",
      "Primary F673: 2 samples, mean pairwise corr = 0.968\n",
      "Primary F679: 2 samples, mean pairwise corr = 0.969\n",
      "Primary F685: 2 samples, mean pairwise corr = 0.970\n",
      "Primary F69: 2 samples, mean pairwise corr = 0.965\n",
      "Primary F713: 2 samples, mean pairwise corr = 0.967\n",
      "Primary F717: 2 samples, mean pairwise corr = 0.966\n",
      "Primary F724: 2 samples, mean pairwise corr = 0.973\n",
      "Primary F73: 2 samples, mean pairwise corr = 0.974\n",
      "Primary F748: 2 samples, mean pairwise corr = 0.975\n",
      "Primary F766: 2 samples, mean pairwise corr = 0.981\n",
      "Primary F777: 2 samples, mean pairwise corr = 0.969\n",
      "Primary F781: 2 samples, mean pairwise corr = 0.973\n",
      "Primary F783: 2 samples, mean pairwise corr = 0.977\n",
      "Primary F784: 2 samples, mean pairwise corr = 0.977\n",
      "Primary F785: 2 samples, mean pairwise corr = 0.974\n",
      "Primary F799: 2 samples, mean pairwise corr = 0.977\n",
      "Primary F8: 2 samples, mean pairwise corr = 0.968\n",
      "Primary F803: 2 samples, mean pairwise corr = 0.978\n",
      "Primary F804: 2 samples, mean pairwise corr = 0.976\n",
      "Primary F807: 2 samples, mean pairwise corr = 0.978\n",
      "Primary F813: 2 samples, mean pairwise corr = 0.901\n",
      "Primary F833: 2 samples, mean pairwise corr = 0.976\n",
      "Primary F847: 2 samples, mean pairwise corr = 0.969\n",
      "Primary F895: 2 samples, mean pairwise corr = 0.971\n",
      "Primary F912: 2 samples, mean pairwise corr = 0.973\n",
      "Primary F933: 2 samples, mean pairwise corr = 0.972\n",
      "Primary F934: 2 samples, mean pairwise corr = 0.970\n"
     ]
    }
   ],
   "source": [
    "from scipy.stats import pearsonr\n",
    "\n",
    "bad_replicate_groups = []\n",
    "\n",
    "for pid, group in replicate_map.groupby(\"primary_id\"):\n",
    "    sample_group = group[\"sample_id\"].tolist()\n",
    "    if len(sample_group) > 1:\n",
    "        # Get the expression for these samples (rows in em_T)\n",
    "        expr = em_T.loc[sample_group]\n",
    "        # Calculate pairwise correlations\n",
    "        corrs = expr.T.corr()\n",
    "        upper = corrs.values[np.triu_indices_from(corrs.values, k=1)]\n",
    "        mean_corr = np.mean(upper)\n",
    "        print(f\"Primary {pid}: {len(sample_group)} samples, mean pairwise corr = {mean_corr:.3f}\")\n",
    "        # Flag very low correlation groups\n",
    "        if mean_corr < 0.90:\n",
    "            bad_replicate_groups.append(pid)\n"
   ]
  },
  {
   "cell_type": "code",
   "execution_count": 53,
   "id": "c4fefb68",
   "metadata": {},
   "outputs": [
    {
     "name": "stdout",
     "output_type": "stream",
     "text": [
      "Bad replicate groups (mean corr < 0.9): 0\n"
     ]
    }
   ],
   "source": [
    "print(f\"Bad replicate groups (mean corr < 0.9): {len(bad_replicate_groups)}\")"
   ]
  },
  {
   "cell_type": "markdown",
   "id": "994c11ae",
   "metadata": {},
   "source": [
    "We can see that most technical replicates agree well with the values from the original measurements.\n",
    "\n",
    "I take 0.9 as a conservative \"something went wrong\" cutoff, but would like to take 0.95 to continue from here.\n",
    "\n",
    "Strategy:\n",
    "- good agreement (>0.95 pearson): average the original and the technical replicate\n",
    "- bad agreement: (<0.95 pearson): only keep original (this applies only to two samples)"
   ]
  },
  {
   "cell_type": "code",
   "execution_count": 54,
   "id": "c0639620",
   "metadata": {},
   "outputs": [
    {
     "name": "stdout",
     "output_type": "stream",
     "text": [
      "Original: (3409, 30865), After collapsing: (3273, 30865)\n"
     ]
    }
   ],
   "source": [
    "em_T_collapsed = em_T.copy()\n",
    "rows_to_drop = []\n",
    "\n",
    "for pid, group in replicate_map.groupby(\"primary_id\"):\n",
    "    sample_group = group[\"sample_id\"].tolist()\n",
    "    # Only consider groups with more than one sample (i.e., with technical replicates)\n",
    "    if len(sample_group) > 1:\n",
    "        expr = em_T.loc[sample_group]\n",
    "        corrs = expr.T.corr()\n",
    "        upper = corrs.values[np.triu_indices_from(corrs.values, k=1)]\n",
    "        mean_corr = np.mean(upper)\n",
    "        if pid in bad_replicate_groups:\n",
    "            print(f\"Bad replicate group: {pid}\")\n",
    "            # Keep only the primary sample (drop all other replicates)\n",
    "            for sid in sample_group:\n",
    "                if sid != pid:\n",
    "                    rows_to_drop.append(sid)\n",
    "        else:\n",
    "            # Good group: average all replicates, assign to primary sample row\n",
    "            avg = expr.mean(axis=0)\n",
    "            em_T_collapsed.loc[pid] = avg\n",
    "            # Drop all replicates except the primary\n",
    "            for sid in sample_group:\n",
    "                if sid != pid:\n",
    "                    rows_to_drop.append(sid)\n",
    "\n",
    "# Actually drop rows\n",
    "em_T_collapsed = em_T_collapsed.drop(rows_to_drop, axis=0)\n",
    "\n",
    "# Sanity check\n",
    "print(f\"Original: {em_T.shape}, After collapsing: {em_T_collapsed.shape}\")\n"
   ]
  },
  {
   "cell_type": "markdown",
   "id": "a8a10bb4",
   "metadata": {},
   "source": [
    "Correct, now we have removed the 136 technical replicates."
   ]
  },
  {
   "cell_type": "markdown",
   "id": "6e1ee1cc",
   "metadata": {},
   "source": [
    "# BLABLA"
   ]
  },
  {
   "cell_type": "markdown",
   "id": "e6e33c45",
   "metadata": {},
   "source": [
    "Applying median-centering per column."
   ]
  },
  {
   "cell_type": "code",
   "execution_count": 55,
   "id": "7eb465f4",
   "metadata": {},
   "outputs": [],
   "source": [
    "median_centered = filtered_em_T.sub(filtered_em_T.median(axis=0), axis=1)\n",
    "\n",
    "# After calculating median_centered\n",
    "median_centered = filtered_em_T.sub(filtered_em_T.median(axis=0), axis=1)\n",
    "\n",
    "# Check for infinite values and replace them with NaN before saving\n",
    "inf_count_median = np.isinf(median_centered.values).sum()\n",
    "if inf_count_median > 0:\n",
    "    print(f\"ATTENTION: {inf_count_median} infinite values found in median_centered DataFrame. Replacing with NaN.\")\n",
    "    median_centered.replace([np.inf, -np.inf], np.nan, inplace=True)"
   ]
  },
  {
   "cell_type": "markdown",
   "id": "998f6e7c",
   "metadata": {},
   "source": [
    "Applying z-scoring per column."
   ]
  },
  {
   "cell_type": "code",
   "execution_count": 56,
   "id": "58ba755f",
   "metadata": {},
   "outputs": [
    {
     "name": "stdout",
     "output_type": "stream",
     "text": [
      "Dropping 2 columns with zero standard deviation after centering.\n"
     ]
    }
   ],
   "source": [
    "# Drop columns with zero std dev after median-centering\n",
    "stds = median_centered.std(axis=0, ddof=0)\n",
    "zero_std_cols = stds[stds == 0].index\n",
    "\n",
    "print(f\"Dropping {len(zero_std_cols)} columns with zero standard deviation after centering.\")\n",
    "\n",
    "median_centered = median_centered.drop(columns=zero_std_cols)\n"
   ]
  },
  {
   "cell_type": "code",
   "execution_count": 57,
   "id": "0fcf15ce",
   "metadata": {},
   "outputs": [
    {
     "name": "stdout",
     "output_type": "stream",
     "text": [
      "Series([], dtype: int64)\n"
     ]
    }
   ],
   "source": [
    "# Shows columns with any NaNs and how many there are\n",
    "na_cols = median_centered.isna().sum()\n",
    "na_cols = na_cols[na_cols > 0]\n",
    "print(na_cols)\n"
   ]
  },
  {
   "cell_type": "code",
   "execution_count": 58,
   "id": "38d34219",
   "metadata": {},
   "outputs": [
    {
     "name": "stdout",
     "output_type": "stream",
     "text": [
      "0\n",
      "5_8S_rRNA    0\n",
      "5S_rRNA      0\n",
      "7SK          0\n",
      "A1BG         0\n",
      "A1BG-AS1     0\n",
      "            ..\n",
      "ZYG11A       0\n",
      "ZYG11B       0\n",
      "ZYX          0\n",
      "ZZEF1        0\n",
      "ZZZ3         0\n",
      "Length: 26148, dtype: int64\n"
     ]
    }
   ],
   "source": [
    "print(np.isinf(median_centered.values).sum())  # total count\n",
    "print((~np.isfinite(median_centered)).sum())   # includes inf, -inf, NaN"
   ]
  },
  {
   "cell_type": "code",
   "execution_count": 59,
   "id": "1209993a",
   "metadata": {},
   "outputs": [
    {
     "name": "stdout",
     "output_type": "stream",
     "text": [
      "After replacing inf/-inf, NaNs per column:\n",
      "Series([], dtype: int64)\n"
     ]
    }
   ],
   "source": [
    "median_centered.replace([np.inf, -np.inf], np.nan, inplace=True)\n",
    "print(\"After replacing inf/-inf, NaNs per column:\")\n",
    "print(median_centered.isna().sum()[lambda x: x > 0])\n"
   ]
  },
  {
   "cell_type": "code",
   "execution_count": 61,
   "id": "6754beed",
   "metadata": {},
   "outputs": [
    {
     "data": {
      "text/plain": [
       "(3409, 26148)"
      ]
     },
     "execution_count": 61,
     "metadata": {},
     "output_type": "execute_result"
    }
   ],
   "source": [
    "median_centered.shape"
   ]
  },
  {
   "cell_type": "code",
   "execution_count": null,
   "id": "759125c0",
   "metadata": {},
   "outputs": [],
   "source": [
    "median_centered.to_csv(os.getenv(\"MEDIAN_CENTERED\"), float_format='%.20f')"
   ]
  },
  {
   "cell_type": "code",
   "execution_count": null,
   "id": "149d974b",
   "metadata": {},
   "outputs": [],
   "source": [
    "zscored = median_centered.sub(median_centered.mean(axis=0), axis=1)\n",
    "zscored = zscored.div(median_centered.std(axis=0, ddof=0), axis=1)\n",
    "\n",
    "inf_count_zscored = np.isinf(zscored.values).sum()\n",
    "if inf_count_zscored > 0:\n",
    "    print(f\"ATTENTION: {inf_count_zscored} infinite values found in zscored DataFrame. Replacing with NaN.\")\n",
    "    zscored.replace([np.inf, -np.inf], np.nan, inplace=True)\n"
   ]
  },
  {
   "cell_type": "code",
   "execution_count": 40,
   "id": "03af33a8",
   "metadata": {},
   "outputs": [
    {
     "name": "stdout",
     "output_type": "stream",
     "text": [
      "Series([], dtype: int64)\n"
     ]
    }
   ],
   "source": [
    "# Shows columns with any NaNs and how many there are\n",
    "na_cols = zscored.isna().sum()\n",
    "na_cols = na_cols[na_cols > 0]\n",
    "print(na_cols)\n"
   ]
  },
  {
   "cell_type": "code",
   "execution_count": null,
   "id": "be32afbf",
   "metadata": {},
   "outputs": [],
   "source": [
    "zscored.to_csv(os.getenv(\"ZSCORED\"), float_format='%.20f')"
   ]
  }
 ],
 "metadata": {
  "kernelspec": {
   "display_name": "bioai",
   "language": "python",
   "name": "python3"
  },
  "language_info": {
   "codemirror_mode": {
    "name": "ipython",
    "version": 3
   },
   "file_extension": ".py",
   "mimetype": "text/x-python",
   "name": "python",
   "nbconvert_exporter": "python",
   "pygments_lexer": "ipython3",
   "version": "3.11.0"
  }
 },
 "nbformat": 4,
 "nbformat_minor": 5
}
