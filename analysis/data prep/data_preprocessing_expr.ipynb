{
 "cells": [
  {
   "cell_type": "code",
   "execution_count": 1,
   "id": "2d739180",
   "metadata": {},
   "outputs": [],
   "source": [
    "import os\n",
    "import pandas as pd\n",
    "import matplotlib.pyplot as plt\n",
    "import pandas as pd\n",
    "import matplotlib.pyplot as plt\n",
    "from dotenv import load_dotenv\n",
    "\n",
    "load_dotenv(dotenv_path=\"/Users/sarah/Code/bioinformatics-tool/analysis/.env\") \n",
    "\n",
    "\n",
    "em = pd.read_csv(os.getenv(\"EM\"), index_col=0)"
   ]
  },
  {
   "cell_type": "code",
   "execution_count": 2,
   "id": "32377ec3",
   "metadata": {},
   "outputs": [
    {
     "name": "stdout",
     "output_type": "stream",
     "text": [
      "Initial shape (samples x genes): (3409, 30865)\n"
     ]
    }
   ],
   "source": [
    "em_T = em.T\n",
    "print(f\"Initial shape (samples x genes): {em_T.shape}\")"
   ]
  },
  {
   "cell_type": "markdown",
   "id": "5453090f",
   "metadata": {},
   "source": [
    "Dropping columns that are constant and genes with a very low expression."
   ]
  },
  {
   "cell_type": "code",
   "execution_count": 53,
   "id": "c5fc0ab7",
   "metadata": {},
   "outputs": [
    {
     "name": "stdout",
     "output_type": "stream",
     "text": [
      "Dropping 2236 constant columns.\n",
      "Dropping 2479 low-expression columns (not equal to -3.32 in < 34 samples).\n"
     ]
    }
   ],
   "source": [
    "import numpy as np\n",
    "\n",
    "# Step 1: Drop constant columns (genes with no variation across samples)\n",
    "constant_cols = em_T.loc[:, em_T.nunique() <= 1].columns\n",
    "cleaned_em_T = em_T.drop(columns=constant_cols)\n",
    "print(f\"Dropping {len(constant_cols)} constant columns.\")\n",
    "\n",
    "# Step 2: Drop low-expression genes (genes expressed in <1% of samples)\n",
    "tolerance = 1e-2  # or 0.01\n",
    "pseudo_zero = np.log2(0.1)  # ≈ -3.32\n",
    "min_samples = int(0.01 * cleaned_em_T.shape[0])\n",
    "\n",
    "# Count how many samples have expression different from -3.32\n",
    "expressed = (np.abs(cleaned_em_T - pseudo_zero) > tolerance).sum(axis=0)\n",
    "low_expression_cols = expressed[expressed < min_samples].index\n",
    "\n",
    "print(f\"Dropping {len(low_expression_cols)} low-expression columns (not equal to {pseudo_zero:.2f} in < {min_samples} samples).\")\n",
    "\n",
    "filtered_em_T = cleaned_em_T.drop(columns=low_expression_cols)"
   ]
  },
  {
   "cell_type": "code",
   "execution_count": 54,
   "id": "f990b075",
   "metadata": {},
   "outputs": [
    {
     "name": "stdout",
     "output_type": "stream",
     "text": [
      "Series([], dtype: int64)\n"
     ]
    }
   ],
   "source": [
    "# Shows columns with any NaNs and how many there are\n",
    "na_cols = filtered_em_T.isna().sum()\n",
    "na_cols = na_cols[na_cols > 0]\n",
    "print(na_cols)\n"
   ]
  },
  {
   "cell_type": "markdown",
   "id": "e6e33c45",
   "metadata": {},
   "source": [
    "Applying median-centering per column."
   ]
  },
  {
   "cell_type": "code",
   "execution_count": 55,
   "id": "7eb465f4",
   "metadata": {},
   "outputs": [],
   "source": [
    "median_centered = filtered_em_T.sub(filtered_em_T.median(axis=0), axis=1)\n",
    "\n",
    "# After calculating median_centered\n",
    "median_centered = filtered_em_T.sub(filtered_em_T.median(axis=0), axis=1)\n",
    "\n",
    "# Check for infinite values and replace them with NaN before saving\n",
    "inf_count_median = np.isinf(median_centered.values).sum()\n",
    "if inf_count_median > 0:\n",
    "    print(f\"ATTENTION: {inf_count_median} infinite values found in median_centered DataFrame. Replacing with NaN.\")\n",
    "    median_centered.replace([np.inf, -np.inf], np.nan, inplace=True)"
   ]
  },
  {
   "cell_type": "markdown",
   "id": "998f6e7c",
   "metadata": {},
   "source": [
    "Applying z-scoring per column."
   ]
  },
  {
   "cell_type": "code",
   "execution_count": 56,
   "id": "58ba755f",
   "metadata": {},
   "outputs": [
    {
     "name": "stdout",
     "output_type": "stream",
     "text": [
      "Dropping 2 columns with zero standard deviation after centering.\n"
     ]
    }
   ],
   "source": [
    "# Drop columns with zero std dev after median-centering\n",
    "stds = median_centered.std(axis=0, ddof=0)\n",
    "zero_std_cols = stds[stds == 0].index\n",
    "\n",
    "print(f\"Dropping {len(zero_std_cols)} columns with zero standard deviation after centering.\")\n",
    "\n",
    "median_centered = median_centered.drop(columns=zero_std_cols)\n"
   ]
  },
  {
   "cell_type": "code",
   "execution_count": 57,
   "id": "0fcf15ce",
   "metadata": {},
   "outputs": [
    {
     "name": "stdout",
     "output_type": "stream",
     "text": [
      "Series([], dtype: int64)\n"
     ]
    }
   ],
   "source": [
    "# Shows columns with any NaNs and how many there are\n",
    "na_cols = median_centered.isna().sum()\n",
    "na_cols = na_cols[na_cols > 0]\n",
    "print(na_cols)\n"
   ]
  },
  {
   "cell_type": "code",
   "execution_count": 58,
   "id": "38d34219",
   "metadata": {},
   "outputs": [
    {
     "name": "stdout",
     "output_type": "stream",
     "text": [
      "0\n",
      "5_8S_rRNA    0\n",
      "5S_rRNA      0\n",
      "7SK          0\n",
      "A1BG         0\n",
      "A1BG-AS1     0\n",
      "            ..\n",
      "ZYG11A       0\n",
      "ZYG11B       0\n",
      "ZYX          0\n",
      "ZZEF1        0\n",
      "ZZZ3         0\n",
      "Length: 26148, dtype: int64\n"
     ]
    }
   ],
   "source": [
    "print(np.isinf(median_centered.values).sum())  # total count\n",
    "print((~np.isfinite(median_centered)).sum())   # includes inf, -inf, NaN"
   ]
  },
  {
   "cell_type": "code",
   "execution_count": 59,
   "id": "1209993a",
   "metadata": {},
   "outputs": [
    {
     "name": "stdout",
     "output_type": "stream",
     "text": [
      "After replacing inf/-inf, NaNs per column:\n",
      "Series([], dtype: int64)\n"
     ]
    }
   ],
   "source": [
    "median_centered.replace([np.inf, -np.inf], np.nan, inplace=True)\n",
    "print(\"After replacing inf/-inf, NaNs per column:\")\n",
    "print(median_centered.isna().sum()[lambda x: x > 0])\n"
   ]
  },
  {
   "cell_type": "code",
   "execution_count": 61,
   "id": "6754beed",
   "metadata": {},
   "outputs": [
    {
     "data": {
      "text/plain": [
       "(3409, 26148)"
      ]
     },
     "execution_count": 61,
     "metadata": {},
     "output_type": "execute_result"
    }
   ],
   "source": [
    "median_centered.shape"
   ]
  },
  {
   "cell_type": "code",
   "execution_count": null,
   "id": "759125c0",
   "metadata": {},
   "outputs": [],
   "source": [
    "median_centered.to_csv(os.getenv(\"MEDIAN_CENTERED\"), float_format='%.20f')"
   ]
  },
  {
   "cell_type": "code",
   "execution_count": null,
   "id": "149d974b",
   "metadata": {},
   "outputs": [],
   "source": [
    "zscored = median_centered.sub(median_centered.mean(axis=0), axis=1)\n",
    "zscored = zscored.div(median_centered.std(axis=0, ddof=0), axis=1)\n",
    "\n",
    "inf_count_zscored = np.isinf(zscored.values).sum()\n",
    "if inf_count_zscored > 0:\n",
    "    print(f\"ATTENTION: {inf_count_zscored} infinite values found in zscored DataFrame. Replacing with NaN.\")\n",
    "    zscored.replace([np.inf, -np.inf], np.nan, inplace=True)\n"
   ]
  },
  {
   "cell_type": "code",
   "execution_count": 40,
   "id": "03af33a8",
   "metadata": {},
   "outputs": [
    {
     "name": "stdout",
     "output_type": "stream",
     "text": [
      "Series([], dtype: int64)\n"
     ]
    }
   ],
   "source": [
    "# Shows columns with any NaNs and how many there are\n",
    "na_cols = zscored.isna().sum()\n",
    "na_cols = na_cols[na_cols > 0]\n",
    "print(na_cols)\n"
   ]
  },
  {
   "cell_type": "code",
   "execution_count": null,
   "id": "be32afbf",
   "metadata": {},
   "outputs": [],
   "source": [
    "zscored.to_csv(os.getenv(\"ZSCORED\"), float_format='%.20f')"
   ]
  }
 ],
 "metadata": {
  "kernelspec": {
   "display_name": "bioai",
   "language": "python",
   "name": "python3"
  },
  "language_info": {
   "codemirror_mode": {
    "name": "ipython",
    "version": 3
   },
   "file_extension": ".py",
   "mimetype": "text/x-python",
   "name": "python",
   "nbconvert_exporter": "python",
   "pygments_lexer": "ipython3",
   "version": "3.11.0"
  }
 },
 "nbformat": 4,
 "nbformat_minor": 5
}
