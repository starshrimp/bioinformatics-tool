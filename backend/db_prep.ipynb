{
 "cells": [
  {
   "cell_type": "code",
   "execution_count": 1,
   "id": "58868fbf",
   "metadata": {},
   "outputs": [
    {
     "name": "stdout",
     "output_type": "stream",
     "text": [
      "Tidy file saved to: data/expression_median_tidy.csv\n"
     ]
    }
   ],
   "source": [
    "import pandas as pd\n",
    "from pathlib import Path\n",
    "\n",
    "# File in wide format: rows = samples, columns = genes\n",
    "input_file = Path(\"/Users/sarah/Code/bioinformatics-tool/backend/data/GSE96058_median_centered.csv\")\n",
    "output_file = Path(\"data/expression_median_tidy.csv\")\n",
    "\n",
    "# Load with sample IDs as index\n",
    "df = pd.read_csv(input_file, index_col=0)\n",
    "\n",
    "# Melt into long format: sample_id, gene, value\n",
    "df_long = df.reset_index().melt(id_vars=\"index\", var_name=\"gene\", value_name=\"value\")\n",
    "df_long = df_long.rename(columns={\"index\": \"sample_id\"})\n",
    "\n",
    "# Save\n",
    "df_long.to_csv(output_file, index=False)\n",
    "print(f\"Tidy file saved to: {output_file}\")\n"
   ]
  },
  {
   "cell_type": "code",
   "execution_count": 2,
   "id": "c8da7a2f",
   "metadata": {},
   "outputs": [
    {
     "name": "stdout",
     "output_type": "stream",
     "text": [
      "Tidy file saved to: data/expression_zscored_tidy.csv\n"
     ]
    }
   ],
   "source": [
    "import pandas as pd\n",
    "from pathlib import Path\n",
    "\n",
    "# File in wide format: rows = samples, columns = genes\n",
    "input_file = Path(\"/Users/sarah/Code/bioinformatics-tool/backend/data/GSE96058_zscored.csv\")\n",
    "output_file = Path(\"data/expression_zscored_tidy.csv\")\n",
    "\n",
    "# Load with sample IDs as index\n",
    "df = pd.read_csv(input_file, index_col=0)\n",
    "\n",
    "# Melt into long format: sample_id, gene, value\n",
    "df_long = df.reset_index().melt(id_vars=\"index\", var_name=\"gene\", value_name=\"value\")\n",
    "df_long = df_long.rename(columns={\"index\": \"sample_id\"})\n",
    "\n",
    "# Save\n",
    "df_long.to_csv(output_file, index=False)\n",
    "print(f\"Tidy file saved to: {output_file}\")\n"
   ]
  }
 ],
 "metadata": {
  "kernelspec": {
   "display_name": "bioai",
   "language": "python",
   "name": "python3"
  },
  "language_info": {
   "codemirror_mode": {
    "name": "ipython",
    "version": 3
   },
   "file_extension": ".py",
   "mimetype": "text/x-python",
   "name": "python",
   "nbconvert_exporter": "python",
   "pygments_lexer": "ipython3",
   "version": "3.11.0"
  }
 },
 "nbformat": 4,
 "nbformat_minor": 5
}
