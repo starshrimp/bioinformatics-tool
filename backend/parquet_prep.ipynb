{
 "cells": [
  {
   "cell_type": "markdown",
   "id": "349d1b2b",
   "metadata": {},
   "source": [
    "# Median - Centered"
   ]
  },
  {
   "cell_type": "code",
   "execution_count": 1,
   "id": "6de3fa07",
   "metadata": {},
   "outputs": [],
   "source": [
    "import os\n",
    "import pandas as pd\n",
    "from dotenv import load_dotenv\n",
    "\n",
    "load_dotenv(dotenv_path=\"/Users/sarah/Code/bioinformatics-tool/analysis/.env\")\n",
    "\n",
    "\n",
    "df = pd.read_csv(os.getenv(\"MEDIAN_CENTERED\"),index_col=0)\n",
    "\n"
   ]
  },
  {
   "cell_type": "code",
   "execution_count": 2,
   "id": "0f4322b1",
   "metadata": {},
   "outputs": [],
   "source": [
    "# axis=0: computes variance across all samples for each gene (column)\n",
    "gene_variances = df.var(axis=0)\n"
   ]
  },
  {
   "cell_type": "code",
   "execution_count": 3,
   "id": "52c308d3",
   "metadata": {},
   "outputs": [],
   "source": [
    "top_5000_genes = gene_variances.sort_values(ascending=False).head(5000).index\n",
    "subset_df = df[top_5000_genes]\n"
   ]
  },
  {
   "cell_type": "code",
   "execution_count": null,
   "id": "b9a7a339",
   "metadata": {},
   "outputs": [],
   "source": [
    "subset_df.to_parquet(\"median_centered_top5000.parquet\")\n"
   ]
  },
  {
   "cell_type": "markdown",
   "id": "4edee41c",
   "metadata": {},
   "source": [
    "# Z-Scored"
   ]
  },
  {
   "cell_type": "code",
   "execution_count": 6,
   "id": "fa74fe9b",
   "metadata": {},
   "outputs": [],
   "source": [
    "import os\n",
    "import pandas as pd\n",
    "from dotenv import load_dotenv\n",
    "\n",
    "load_dotenv(dotenv_path=\"/Users/sarah/Code/bioinformatics-tool/analysis/.env\")\n",
    "\n",
    "\n",
    "df = pd.read_csv(os.getenv(\"ZSCORED\"),index_col=0)\n",
    "\n",
    "# axis=0: computes variance across all samples for each gene (column)\n",
    "gene_variances = df.var(axis=0)\n",
    "\n",
    "top_5000_genes = gene_variances.sort_values(ascending=False).head(5000).index\n",
    "subset_df = df[top_5000_genes]\n",
    "\n",
    "subset_df.to_parquet(\"zscored_top5000.parquet\")\n"
   ]
  }
 ],
 "metadata": {
  "kernelspec": {
   "display_name": "bioai",
   "language": "python",
   "name": "python3"
  },
  "language_info": {
   "codemirror_mode": {
    "name": "ipython",
    "version": 3
   },
   "file_extension": ".py",
   "mimetype": "text/x-python",
   "name": "python",
   "nbconvert_exporter": "python",
   "pygments_lexer": "ipython3",
   "version": "3.11.0"
  }
 },
 "nbformat": 4,
 "nbformat_minor": 5
}
